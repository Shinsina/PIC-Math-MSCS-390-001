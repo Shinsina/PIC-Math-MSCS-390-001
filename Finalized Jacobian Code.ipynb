{
 "cells": [
  {
   "cell_type": "code",
   "execution_count": 8,
   "metadata": {},
   "outputs": [],
   "source": [
    "import numpy as np\n",
    "import matplotlib.pyplot as plt\n",
    "import sympy as sp\n",
    "from sympy.plotting import plot\n",
    "import operator\n",
    "from IPython.display import Image\n",
    "from IPython.core.display import HTML "
   ]
  },
  {
   "cell_type": "code",
   "execution_count": 9,
   "metadata": {},
   "outputs": [],
   "source": [
    "def nullcline_intersection(sys, r):\n",
    "    x, y = sp.symbols('x, y')\n",
    "    eq1 = sys(x, y, r)[0]\n",
    "    eq2 = sys(x, y, r)[1]\n",
    "    sols = sp.solve([eq1, eq2], [x, y])\n",
    "    return np.array(sols,dtype=float)"
   ]
  },
  {
   "cell_type": "markdown",
   "metadata": {},
   "source": [
    "###### System of Equations\n",
    "\n",
    "Full Commitment:\n",
    "\\begin{align}\n",
    "\\dot{k} &= k^\\alpha - \\left(\\delta + n + x\\right)k - c\\\\\n",
    "\\dot{c} &= c\\left(\\alpha k^{\\alpha - 1} - \\left(\\delta + x\\right) - \\left(\\rho + be^{-\\gamma t}\\right) \\right)\n",
    "\\end{align}\n",
    "\n",
    "No Commitment:\n",
    "\\begin{align}\n",
    "\\dot{k} &= k^\\alpha - \\left(\\delta + n + x\\right)k - c\\\\\n",
    "\\dot{c} &= c\\left(\\alpha k^{\\alpha - 1} - \\left(\\delta + x + \\lambda\\right) \\right)\n",
    "\\end{align}"
   ]
  },
  {
   "cell_type": "code",
   "execution_count": null,
   "metadata": {},
   "outputs": [],
   "source": []
  },
  {
   "cell_type": "markdown",
   "metadata": {},
   "source": [
    "###### Jacobian of the System\n",
    "\n",
    "$$J(k,c)=\n",
    "\\begin{bmatrix}\n",
    "\\alpha k^{\\alpha-1}-\\left(\\delta+n+x\\right) & -1\\\\\n",
    "\\alpha(\\alpha-1)ck^{\\alpha-2} & \\alpha k^{\\alpha - 1} - \\left(\\delta + x\\right) - \\left(\\rho + be^{-\\gamma t}\\right)\\\\\n",
    "\\end{bmatrix}$$\n",
    "\n",
    "\n",
    "When the Jacobian is at a steady state the $$rho + be^{-\\gamma t}$$ will be 0 as t approaches infinity.  \n",
    "\n",
    "$$J(k,c)=\n",
    "\\begin{bmatrix}\n",
    "\\alpha k^{\\alpha-1}-\\left(\\delta+n+x\\right) & -1\\\\\n",
    "\\alpha(\\alpha-1)ck^{\\alpha-2} & 0\\\\\n",
    "\\end{bmatrix}$$\n",
    "\n",
    "\n",
    "Through this we can find the eigenvalues and eigenvectors of the Jacobian matrix to check the stability of the system as  it is centered at the steady state. "
   ]
  },
  {
   "cell_type": "code",
   "execution_count": 10,
   "metadata": {},
   "outputs": [],
   "source": [
    "def jacsys(k,c,r):\n",
    "    alpha, delta, xt, n, rho, b, gamma = r[0], r[1], r[2], r[3], r[4], r[5], r[6]\n",
    "    J = np.array([[alpha*k**(alpha-1)-(delta+xt+n), -1],\n",
    "    [c*alpha*(alpha-1)*k**(alpha-2), 0]])\n",
    "    return J"
   ]
  },
  {
   "cell_type": "code",
   "execution_count": 11,
   "metadata": {},
   "outputs": [],
   "source": [
    "# Use the RK4 solver to complete Linearizing the Jacobian \n",
    "def rk4(t,y,h,func,J):\n",
    "    k1 = h*func(t,y,J)\n",
    "    k2 = h*func(t+0.5*h,y+0.5*k1,J)\n",
    "    k3 = h*func(t+0.5*h,y+0.5*k2,J)\n",
    "    k4 = h*func(t+h,y+k3,J)\n",
    "    return (k1 + 2*k2 + 2*k3 + k4)/6\n",
    "\n",
    "# Homebrew Solver: Euler's Method\n",
    "def rk4_solve(t0,tf,h,y0,func,J):\n",
    "    tv, yv, = [], []\n",
    "    t, y = t0, y0\n",
    "    while t < tf:\n",
    "        y += rk4(t,y,h,func,J)\n",
    "        t += h\n",
    "        yv.append(y.copy())\n",
    "        tv.append(t)\n",
    "    return np.array(tv), np.array(yv)\n",
    "\n",
    "# Take the values close to the steady-point to see the stability around each point placed in J\n",
    "def F(t,U,J):\n",
    "    # System of Equations\n",
    "    return np.array([ J[0,0]*U[0] + J[0,1]*U[1],\n",
    "                      J[1,0]*U[0] + J[1,1]*U[1]])"
   ]
  },
  {
   "cell_type": "code",
   "execution_count": 14,
   "metadata": {},
   "outputs": [],
   "source": [
    "alpha, delta, xt, n, rho, b, gamma = 0.75, 0.05, 0.02, 0.01, 0.02, 0.5, 0.5\n",
    "r = (alpha, delta, xt, n, rho, b, gamma)\n",
    "lam = .03653\n",
    "\n",
    "# Equations of k*_0 and c*_0 for No Commitment\n",
    "kzed = (alpha/(delta + lam + xt))**(1/(1-alpha)) \n",
    "czed = kzed**alpha - (delta + n + xt)*kzed \n",
    "\n",
    "# Equations of k*_inf and c*_inf for Full Commitment\n",
    "kinf = (alpha/(delta + rho + xt))**(1/(1-alpha)) \n",
    "cinf = kinf**alpha - (delta + n + xt)*kinf"
   ]
  },
  {
   "cell_type": "code",
   "execution_count": 40,
   "metadata": {},
   "outputs": [
    {
     "name": "stdout",
     "output_type": "stream",
     "text": [
      "The Full Commitment Case:\n",
      "The Jacobian Matrix of the No Committment case:\n",
      "[[ 1.e-02 -1.e+00]\n",
      " [-9.e-04  0.e+00]]\n",
      " \n",
      "The Eigenvalues: [ 0.03541381 -0.02541381]\n",
      "The Eigenvectors as columns: [[ 3.54138127e-02  3.46944695e-18]\n",
      " [ 0.00000000e+00 -2.54138127e-02]]\n"
     ]
    }
   ],
   "source": [
    "# To Test Full or No Comittment change below\n",
    "# True = Full Commitment \n",
    "# False = No Commitment\n",
    "CommitmentType = True\n",
    "\n",
    "if CommitmentType:    \n",
    "    # Jacobian of the Full Comittment Case\n",
    "    def dFull(k,c,r):\n",
    "        alpha, delta, xt, n, rho, b, gamma = r[0], r[1], r[2], r[3], r[4], r[5], r[6]\n",
    "        G1 = k**alpha - (delta+xt+n)*k - c\n",
    "        G2 = c*(alpha*k**(alpha-1) - (delta+xt) - rho) # b*exp(-gamma*t) -> 0 as t -> infty\n",
    "        return [G1, G2]\n",
    "    \n",
    "    eq = nullcline_intersection(dFull,r)\n",
    "    Jacobian = jacsys(kinf,cinf,r) \n",
    "    Jentries = np.array([[Jacobian[0,0],Jacobian[0,1]],[Jacobian[1,0],Jacobian[1,1]]])\n",
    "    print(\"The Full Commitment Case:\")\n",
    "    \n",
    "else:\n",
    "    # Jacobian of the No Comittment Case\n",
    "    def dNo(k,c,r):\n",
    "        alpha, delta, xt, n, rho, b, gamma = r[0], r[1], r[2], r[3], r[4], r[5], r[6]\n",
    "        G1 = k**alpha - (delta+xt+n)*k - c\n",
    "        G2 = c*(alpha*k**(alpha-1) - (delta+xt) - lam)\n",
    "        return [G1, G2]\n",
    "    \n",
    "    eq = nullcline_intersection(dNo,r)\n",
    "    Jacobian = jacsys(kzed,czed,r)\n",
    "    Jentries = np.array([[Jacobian[0,0],Jacobian[0,1]],[Jacobian[1,0],Jacobian[1,1]]])\n",
    "    print(\"The No Commitment Case:\")\n",
    "\n",
    "print(\"The Jacobian Matrix of the No Committment case:\")\n",
    "print(Jacobian)\n",
    "print(\" \")\n",
    "ew, ev = np.linalg.eig(Jacobian)\n",
    "print('The Eigenvalues: {}'.format(ew))\n",
    "print('The Eigenvectors as columns: {}'.format(np.dot(np.linalg.inv(ev),np.dot(Jacobian,ev))))"
   ]
  },
  {
   "cell_type": "code",
   "execution_count": 41,
   "metadata": {},
   "outputs": [
    {
     "name": "stdout",
     "output_type": "stream",
     "text": [
      "Full Commitment Case:\n"
     ]
    },
    {
     "data": {
      "image/png": "[encoded data removed]",
      "text/plain": [
       "<Figure size 432x288 with 1 Axes>"
      ]
     },
     "metadata": {
      "needs_background": "light"
     },
     "output_type": "display_data"
    }
   ],
   "source": [
    "UpLfQ = [-0.005, .005]  # Value in upper left quadrant (Blue)\n",
    "UpRtQ = [0.01, .005]   # Value in upper right quadrant (Red)\n",
    "LwLfQ = [-0.01, -0.005] # Value in lower left quadrantn(Purple)\n",
    "LwRtQ = [0.005, -0.005]  # Value in lower right quadrant (Yellow)\n",
    "\n",
    "\n",
    "t,v = rk4_solve(0,4,1e-2, UpLfQ,F,Jentries)\n",
    "t2,v2 = rk4_solve(0,2,1e-2, UpRtQ,F,Jentries)\n",
    "t3,v3 = rk4_solve(0,2,1e-2, LwLfQ,F,Jentries)\n",
    "t4,v4 = rk4_solve(0,2,1e-2, LwRtQ,F,Jentries)\n",
    "\n",
    "if CommitmentType == True:\n",
    "    print(\"Full Commitment Case:\")\n",
    "else:\n",
    "    print(\"No Commitment Case:\")\n",
    "    \n",
    "    \n",
    "plt.plot(v[:,0],v[:,1], 'b',v2[:,0], v2[:,1],'r',v3[:,0], v3[:,1],'m',v4[:,0], v4[:,1],'y',\n",
    "         [-.009,.009],[0,0],'k',[0,0],[-.009, .009],'k');\n",
    "\n",
    "plt.xlabel('k',size=15)\n",
    "plt.ylabel('c',size=15);"
   ]
  },
  {
   "cell_type": "markdown",
   "metadata": {},
   "source": [
    "###### The paths around the stable point, displaying the saddle paths for above the stable point.\n",
    "\n",
    "The green circle is the starting point, and the direction the line goes shows the character of how that point reacts around the steady state."
   ]
  },
  {
   "cell_type": "code",
   "execution_count": 48,
   "metadata": {},
   "outputs": [
    {
     "data": {
      "image/png": "[encoded data removed]",
      "text/plain": [
       "<Figure size 432x288 with 1 Axes>"
      ]
     },
     "metadata": {
      "needs_background": "light"
     },
     "output_type": "display_data"
    }
   ],
   "source": [
    "test = plt.plot(v[:,0],v[:,1], 'b', v2[:,0],v2[:,1], 'r',\n",
    "         [0,0],[0.00498,.00505], 'black', [-.025, .010], [.00498,.00498], 'black',UpRtQ[0],UpRtQ[1],'go',UpLfQ[0],UpLfQ[1],'go');\n",
    "plt.xlabel('k',size=15)\n",
    "plt.ylabel('c',size=15);"
   ]
  },
  {
   "cell_type": "markdown",
   "metadata": {},
   "source": [
    "###### The paths around the stable point, displaying the saddle paths for below the stable point."
   ]
  },
  {
   "cell_type": "code",
   "execution_count": 44,
   "metadata": {},
   "outputs": [
    {
     "data": {
      "image/png": "[encoded data removed]",
      "text/plain": [
       "<Figure size 432x288 with 1 Axes>"
      ]
     },
     "metadata": {
      "needs_background": "light"
     },
     "output_type": "display_data"
    }
   ],
   "source": [
    "plt.plot(v3[:,0],v3[:,1], 'm', v4[:,0],v4[:,1], 'y',\n",
    "         [0,0],[-0.00498,-0.005015], 'black', [-.010, .015], [-0.00498,-.00498], 'black', LwRtQ[0],LwRtQ[1],'go',LwLfQ[0],LwLfQ[1],'go');\n",
    "plt.xlabel('k',size=15)\n",
    "plt.ylabel('c',size=15);"
   ]
  },
  {
   "cell_type": "code",
   "execution_count": null,
   "metadata": {},
   "outputs": [],
   "source": []
  }
 ],
 "metadata": {
  "kernelspec": {
   "display_name": "Python 3",
   "language": "python",
   "name": "python3"
  },
  "language_info": {
   "codemirror_mode": {
    "name": "ipython",
    "version": 3
   },
   "file_extension": ".py",
   "mimetype": "text/x-python",
   "name": "python",
   "nbconvert_exporter": "python",
   "pygments_lexer": "ipython3",
   "version": "3.7.3"
  }
 },
 "nbformat": 4,
 "nbformat_minor": 2
}
