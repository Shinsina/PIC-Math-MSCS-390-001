{
 "cells": [
  {
   "cell_type": "code",
   "execution_count": 8,
   "metadata": {},
   "outputs": [],
   "source": [
    "import numpy as np\n",
    "import matplotlib.pyplot as plt\n",
    "import sympy as sp\n",
    "from sympy.plotting import plot\n",
    "import operator\n",
    "from IPython.display import Image\n",
    "from IPython.core.display import HTML "
   ]
  },
  {
   "cell_type": "code",
   "execution_count": 9,
   "metadata": {},
   "outputs": [],
   "source": [
    "def nullcline_intersection(sys, r):\n",
    "    x, y = sp.symbols('x, y')\n",
    "    eq1 = sys(x, y, r)[0]\n",
    "    eq2 = sys(x, y, r)[1]\n",
    "    sols = sp.solve([eq1, eq2], [x, y])\n",
    "    return np.array(sols,dtype=float)"
   ]
  },
  {
   "cell_type": "markdown",
   "metadata": {},
   "source": [
    "###### System of Equations\n",
    "\n",
    "Full Commitment:\n",
    "\\begin{align}\n",
    "\\dot{k} &= k^\\alpha - \\left(\\delta + n + x\\right)k - c\\\\\n",
    "\\dot{c} &= c\\left(\\alpha k^{\\alpha - 1} - \\left(\\delta + x\\right) - \\left(\\rho + be^{-\\gamma t}\\right) \\right)\n",
    "\\end{align}\n",
    "\n",
    "No Commitment:\n",
    "\\begin{align}\n",
    "\\dot{k} &= k^\\alpha - \\left(\\delta + n + x\\right)k - c\\\\\n",
    "\\dot{c} &= c\\left(\\alpha k^{\\alpha - 1} - \\left(\\delta + x + \\lambda\\right) \\right)\n",
    "\\end{align}"
   ]
  },
  {
   "cell_type": "code",
   "execution_count": null,
   "metadata": {},
   "outputs": [],
   "source": []
  },
  {
   "cell_type": "markdown",
   "metadata": {},
   "source": [
    "###### Jacobian of the System\n",
    "\n",
    "$$J(k,c)=\n",
    "\\begin{bmatrix}\n",
    "\\alpha k^{\\alpha-1}-\\left(\\delta+n+x\\right) & -1\\\\\n",
    "\\alpha(\\alpha-1)ck^{\\alpha-2} & \\alpha k^{\\alpha - 1} - \\left(\\delta + x\\right) - \\left(\\rho + be^{-\\gamma t}\\right)\\\\\n",
    "\\end{bmatrix}$$\n",
    "\n",
    "\n",
    "When the Jacobian is at a steady state the $$rho + be^{-\\gamma t}$$ will be 0 as t approaches infinity.  \n",
    "\n",
    "$$J(k,c)=\n",
    "\\begin{bmatrix}\n",
    "\\alpha k^{\\alpha-1}-\\left(\\delta+n+x\\right) & -1\\\\\n",
    "\\alpha(\\alpha-1)ck^{\\alpha-2} & 0\\\\\n",
    "\\end{bmatrix}$$\n",
    "\n",
    "\n",
    "Through this we can find the eigenvalues and eigenvectors of the Jacobian matrix to check the stability of the system as  it is centered at the steady state. "
   ]
  },
  {
   "cell_type": "code",
   "execution_count": 10,
   "metadata": {},
   "outputs": [],
   "source": [
    "def jacsys(k,c,r):\n",
    "    alpha, delta, xt, n, rho, b, gamma = r[0], r[1], r[2], r[3], r[4], r[5], r[6]\n",
    "    J = np.array([[alpha*k**(alpha-1)-(delta+xt+n), -1],\n",
    "    [c*alpha*(alpha-1)*k**(alpha-2), 0]])\n",
    "    return J"
   ]
  },
  {
   "cell_type": "code",
   "execution_count": 11,
   "metadata": {},
   "outputs": [],
   "source": [
    "# Use the RK4 solver to complete Linearizing the Jacobian \n",
    "def rk4(t,y,h,func,J):\n",
    "    k1 = h*func(t,y,J)\n",
    "    k2 = h*func(t+0.5*h,y+0.5*k1,J)\n",
    "    k3 = h*func(t+0.5*h,y+0.5*k2,J)\n",
    "    k4 = h*func(t+h,y+k3,J)\n",
    "    return (k1 + 2*k2 + 2*k3 + k4)/6\n",
    "\n",
    "# Homebrew Solver: Euler's Method\n",
    "def rk4_solve(t0,tf,h,y0,func,J):\n",
    "    tv, yv, = [], []\n",
    "    t, y = t0, y0\n",
    "    while t < tf:\n",
    "        y += rk4(t,y,h,func,J)\n",
    "        t += h\n",
    "        yv.append(y.copy())\n",
    "        tv.append(t)\n",
    "    return np.array(tv), np.array(yv)\n",
    "\n",
    "# Take the values close to the steady-point to see the stability around each point placed in J\n",
    "def F(t,U,J):\n",
    "    # System of Equations\n",
    "    return np.array([ J[0,0]*U[0] + J[0,1]*U[1],\n",
    "                      J[1,0]*U[0] + J[1,1]*U[1]])"
   ]
  },
  {
   "cell_type": "code",
   "execution_count": 14,
   "metadata": {},
   "outputs": [],
   "source": [
    "alpha, delta, xt, n, rho, b, gamma = 0.75, 0.05, 0.02, 0.01, 0.02, 0.5, 0.5\n",
    "r = (alpha, delta, xt, n, rho, b, gamma)\n",
    "lam = .03653\n",
    "\n",
    "# Equations of k*_0 and c*_0 for No Commitment\n",
    "kzed = (alpha/(delta + lam + xt))**(1/(1-alpha)) \n",
    "czed = kzed**alpha - (delta + n + xt)*kzed \n",
    "\n",
    "# Equations of k*_inf and c*_inf for Full Commitment\n",
    "kinf = (alpha/(delta + rho + xt))**(1/(1-alpha)) \n",
    "cinf = kinf**alpha - (delta + n + xt)*kinf"
   ]
  },
  {
   "cell_type": "code",
   "execution_count": 21,
   "metadata": {},
   "outputs": [
    {
     "name": "stdout",
     "output_type": "stream",
     "text": [
      "The No Commitment Case:\n",
      "The Jacobian Matrix of the No Committment case:\n",
      "[[ 0.02653    -1.        ]\n",
      " [-0.00165228  0.        ]]\n",
      " \n",
      "The Eigenvalues: [ 0.05602293 -0.02949293]\n",
      "The Eigenvectors as columns: [[ 5.60229294e-02  0.00000000e+00]\n",
      " [ 3.46944695e-18 -2.94929294e-02]]\n"
     ]
    }
   ],
   "source": [
    "# To Test Full or No Comittment change below\n",
    "# True = Full Commitment \n",
    "# False = No Commitment\n",
    "CommitmentType = False\n",
    "\n",
    "if CommitmentType:    \n",
    "    # Jacobian of the Full Comittment Case\n",
    "    def dFull(k,c,r):\n",
    "        alpha, delta, xt, n, rho, b, gamma = r[0], r[1], r[2], r[3], r[4], r[5], r[6]\n",
    "        G1 = k**alpha - (delta+xt+n)*k - c\n",
    "        G2 = c*(alpha*k**(alpha-1) - (delta+xt) - rho) # b*exp(-gamma*t) -> 0 as t -> infty\n",
    "        return [G1, G2]\n",
    "    \n",
    "    eq = nullcline_intersection(dFull,r)\n",
    "    Jacobian = jacsys(kinf,cinf,r) \n",
    "    Jentries = np.array([(Jacobian[0,0],Jacobian[0,1],Jacobian[1,0],Jacobian[1,1])])    \n",
    "    print(\"The Full Commitment Case:\")\n",
    "    \n",
    "else:\n",
    "    # Jacobian of the No Comittment Case\n",
    "    def dNo(k,c,r):\n",
    "        alpha, delta, xt, n, rho, b, gamma = r[0], r[1], r[2], r[3], r[4], r[5], r[6]\n",
    "        G1 = k**alpha - (delta+xt+n)*k - c\n",
    "        G2 = c*(alpha*k**(alpha-1) - (delta+xt) - lam)\n",
    "        return [G1, G2]\n",
    "    \n",
    "    eq = nullcline_intersection(dNo,r)\n",
    "    Jacobian = jacsys(kzed,czed,r)\n",
    "    Jentries = np.array([(Jacobian[0,0],Jacobian[0,1],Jacobian[1,0],Jacobian[1,1])])\n",
    "    \n",
    "\n",
    "    print(\"The No Commitment Case:\")\n",
    "\n",
    "print(\"The Jacobian Matrix of the No Committment case:\")\n",
    "print(Jacobian)\n",
    "print(\" \")\n",
    "ew, ev = np.linalg.eig(Jacobian)\n",
    "print('The Eigenvalues: {}'.format(ew))\n",
    "print('The Eigenvectors as columns: {}'.format(np.dot(np.linalg.inv(ev),np.dot(Jacobian,ev))))"
   ]
  },
  {
   "cell_type": "code",
   "execution_count": 20,
   "metadata": {},
   "outputs": [
    {
     "ename": "IndexError",
     "evalue": "index 1 is out of bounds for axis 0 with size 1",
     "output_type": "error",
     "traceback": [
      "\u001b[1;31m---------------------------------------------------------------------------\u001b[0m",
      "\u001b[1;31mIndexError\u001b[0m                                Traceback (most recent call last)",
      "\u001b[1;32m<ipython-input-20-a95b06a22a9b>\u001b[0m in \u001b[0;36m<module>\u001b[1;34m\u001b[0m\n\u001b[1;32m----> 1\u001b[1;33m \u001b[0mt\u001b[0m\u001b[1;33m,\u001b[0m\u001b[0mv\u001b[0m \u001b[1;33m=\u001b[0m \u001b[0mrk4_solve\u001b[0m\u001b[1;33m(\u001b[0m\u001b[1;36m0\u001b[0m\u001b[1;33m,\u001b[0m\u001b[1;36m4\u001b[0m\u001b[1;33m,\u001b[0m\u001b[1;36m1e-2\u001b[0m\u001b[1;33m,\u001b[0m \u001b[0mUpLfQ\u001b[0m\u001b[1;33m,\u001b[0m\u001b[0mF\u001b[0m\u001b[1;33m,\u001b[0m\u001b[0mJentries\u001b[0m\u001b[1;33m)\u001b[0m\u001b[1;33m\u001b[0m\u001b[1;33m\u001b[0m\u001b[0m\n\u001b[0m\u001b[0;32m      2\u001b[0m \u001b[1;33m\u001b[0m\u001b[0m\n\u001b[0;32m      3\u001b[0m \u001b[0mplt\u001b[0m\u001b[1;33m.\u001b[0m\u001b[0mplot\u001b[0m\u001b[1;33m(\u001b[0m\u001b[0mv\u001b[0m\u001b[1;33m[\u001b[0m\u001b[1;33m:\u001b[0m\u001b[1;33m,\u001b[0m\u001b[1;36m0\u001b[0m\u001b[1;33m]\u001b[0m\u001b[1;33m,\u001b[0m\u001b[0mv\u001b[0m\u001b[1;33m[\u001b[0m\u001b[1;33m:\u001b[0m\u001b[1;33m,\u001b[0m\u001b[1;36m1\u001b[0m\u001b[1;33m]\u001b[0m\u001b[1;33m,\u001b[0m \u001b[1;34m'b'\u001b[0m\u001b[1;33m)\u001b[0m\u001b[1;33m;\u001b[0m\u001b[1;33m\u001b[0m\u001b[1;33m\u001b[0m\u001b[0m\n\u001b[0;32m      4\u001b[0m \u001b[1;33m\u001b[0m\u001b[0m\n\u001b[0;32m      5\u001b[0m \u001b[0mplt\u001b[0m\u001b[1;33m.\u001b[0m\u001b[0mxlabel\u001b[0m\u001b[1;33m(\u001b[0m\u001b[1;34m'k'\u001b[0m\u001b[1;33m,\u001b[0m\u001b[0msize\u001b[0m\u001b[1;33m=\u001b[0m\u001b[1;36m15\u001b[0m\u001b[1;33m)\u001b[0m\u001b[1;33m\u001b[0m\u001b[1;33m\u001b[0m\u001b[0m\n",
      "\u001b[1;32m<ipython-input-11-d13e2295aea3>\u001b[0m in \u001b[0;36mrk4_solve\u001b[1;34m(t0, tf, h, y0, func, J)\u001b[0m\n\u001b[0;32m     12\u001b[0m     \u001b[0mt\u001b[0m\u001b[1;33m,\u001b[0m \u001b[0my\u001b[0m \u001b[1;33m=\u001b[0m \u001b[0mt0\u001b[0m\u001b[1;33m,\u001b[0m \u001b[0my0\u001b[0m\u001b[1;33m\u001b[0m\u001b[1;33m\u001b[0m\u001b[0m\n\u001b[0;32m     13\u001b[0m     \u001b[1;32mwhile\u001b[0m \u001b[0mt\u001b[0m \u001b[1;33m<\u001b[0m \u001b[0mtf\u001b[0m\u001b[1;33m:\u001b[0m\u001b[1;33m\u001b[0m\u001b[1;33m\u001b[0m\u001b[0m\n\u001b[1;32m---> 14\u001b[1;33m         \u001b[0my\u001b[0m \u001b[1;33m+=\u001b[0m \u001b[0mrk4\u001b[0m\u001b[1;33m(\u001b[0m\u001b[0mt\u001b[0m\u001b[1;33m,\u001b[0m\u001b[0my\u001b[0m\u001b[1;33m,\u001b[0m\u001b[0mh\u001b[0m\u001b[1;33m,\u001b[0m\u001b[0mfunc\u001b[0m\u001b[1;33m,\u001b[0m\u001b[0mJ\u001b[0m\u001b[1;33m)\u001b[0m\u001b[1;33m\u001b[0m\u001b[1;33m\u001b[0m\u001b[0m\n\u001b[0m\u001b[0;32m     15\u001b[0m         \u001b[0mt\u001b[0m \u001b[1;33m+=\u001b[0m \u001b[0mh\u001b[0m\u001b[1;33m\u001b[0m\u001b[1;33m\u001b[0m\u001b[0m\n\u001b[0;32m     16\u001b[0m         \u001b[0myv\u001b[0m\u001b[1;33m.\u001b[0m\u001b[0mappend\u001b[0m\u001b[1;33m(\u001b[0m\u001b[0my\u001b[0m\u001b[1;33m.\u001b[0m\u001b[0mcopy\u001b[0m\u001b[1;33m(\u001b[0m\u001b[1;33m)\u001b[0m\u001b[1;33m)\u001b[0m\u001b[1;33m\u001b[0m\u001b[1;33m\u001b[0m\u001b[0m\n",
      "\u001b[1;32m<ipython-input-11-d13e2295aea3>\u001b[0m in \u001b[0;36mrk4\u001b[1;34m(t, y, h, func, J)\u001b[0m\n\u001b[0;32m      1\u001b[0m \u001b[1;31m# Use the RK4 solver to complete Linearizing the Jacobian\u001b[0m\u001b[1;33m\u001b[0m\u001b[1;33m\u001b[0m\u001b[1;33m\u001b[0m\u001b[0m\n\u001b[0;32m      2\u001b[0m \u001b[1;32mdef\u001b[0m \u001b[0mrk4\u001b[0m\u001b[1;33m(\u001b[0m\u001b[0mt\u001b[0m\u001b[1;33m,\u001b[0m\u001b[0my\u001b[0m\u001b[1;33m,\u001b[0m\u001b[0mh\u001b[0m\u001b[1;33m,\u001b[0m\u001b[0mfunc\u001b[0m\u001b[1;33m,\u001b[0m\u001b[0mJ\u001b[0m\u001b[1;33m)\u001b[0m\u001b[1;33m:\u001b[0m\u001b[1;33m\u001b[0m\u001b[1;33m\u001b[0m\u001b[0m\n\u001b[1;32m----> 3\u001b[1;33m     \u001b[0mk1\u001b[0m \u001b[1;33m=\u001b[0m \u001b[0mh\u001b[0m\u001b[1;33m*\u001b[0m\u001b[0mfunc\u001b[0m\u001b[1;33m(\u001b[0m\u001b[0mt\u001b[0m\u001b[1;33m,\u001b[0m\u001b[0my\u001b[0m\u001b[1;33m,\u001b[0m\u001b[0mJ\u001b[0m\u001b[1;33m)\u001b[0m\u001b[1;33m\u001b[0m\u001b[1;33m\u001b[0m\u001b[0m\n\u001b[0m\u001b[0;32m      4\u001b[0m     \u001b[0mk2\u001b[0m \u001b[1;33m=\u001b[0m \u001b[0mh\u001b[0m\u001b[1;33m*\u001b[0m\u001b[0mfunc\u001b[0m\u001b[1;33m(\u001b[0m\u001b[0mt\u001b[0m\u001b[1;33m+\u001b[0m\u001b[1;36m0.5\u001b[0m\u001b[1;33m*\u001b[0m\u001b[0mh\u001b[0m\u001b[1;33m,\u001b[0m\u001b[0my\u001b[0m\u001b[1;33m+\u001b[0m\u001b[1;36m0.5\u001b[0m\u001b[1;33m*\u001b[0m\u001b[0mk1\u001b[0m\u001b[1;33m,\u001b[0m\u001b[0mJ\u001b[0m\u001b[1;33m)\u001b[0m\u001b[1;33m\u001b[0m\u001b[1;33m\u001b[0m\u001b[0m\n\u001b[0;32m      5\u001b[0m     \u001b[0mk3\u001b[0m \u001b[1;33m=\u001b[0m \u001b[0mh\u001b[0m\u001b[1;33m*\u001b[0m\u001b[0mfunc\u001b[0m\u001b[1;33m(\u001b[0m\u001b[0mt\u001b[0m\u001b[1;33m+\u001b[0m\u001b[1;36m0.5\u001b[0m\u001b[1;33m*\u001b[0m\u001b[0mh\u001b[0m\u001b[1;33m,\u001b[0m\u001b[0my\u001b[0m\u001b[1;33m+\u001b[0m\u001b[1;36m0.5\u001b[0m\u001b[1;33m*\u001b[0m\u001b[0mk2\u001b[0m\u001b[1;33m,\u001b[0m\u001b[0mJ\u001b[0m\u001b[1;33m)\u001b[0m\u001b[1;33m\u001b[0m\u001b[1;33m\u001b[0m\u001b[0m\n",
      "\u001b[1;32m<ipython-input-11-d13e2295aea3>\u001b[0m in \u001b[0;36mF\u001b[1;34m(t, U, J)\u001b[0m\n\u001b[0;32m     22\u001b[0m     \u001b[1;31m# System of Equations\u001b[0m\u001b[1;33m\u001b[0m\u001b[1;33m\u001b[0m\u001b[1;33m\u001b[0m\u001b[0m\n\u001b[0;32m     23\u001b[0m     return np.array([ J[0,0]*U[0] + J[0,1]*U[1],\n\u001b[1;32m---> 24\u001b[1;33m                       J[1,0]*U[0] + J[1,1]*U[1]])\n\u001b[0m",
      "\u001b[1;31mIndexError\u001b[0m: index 1 is out of bounds for axis 0 with size 1"
     ]
    }
   ],
   "source": [
    "t,v = rk4_solve(0,4,1e-2, UpLfQ,F,Jentries)\n",
    "\n",
    "plt.plot(v[:,0],v[:,1], 'b');\n",
    "       \n",
    "plt.xlabel('k',size=15)\n",
    "plt.ylabel('c',size=15);"
   ]
  },
  {
   "cell_type": "code",
   "execution_count": 18,
   "metadata": {},
   "outputs": [
    {
     "ename": "IndexError",
     "evalue": "index 1 is out of bounds for axis 0 with size 1",
     "output_type": "error",
     "traceback": [
      "\u001b[1;31m---------------------------------------------------------------------------\u001b[0m",
      "\u001b[1;31mIndexError\u001b[0m                                Traceback (most recent call last)",
      "\u001b[1;32m<ipython-input-18-107cbac73e98>\u001b[0m in \u001b[0;36m<module>\u001b[1;34m\u001b[0m\n\u001b[0;32m      5\u001b[0m \u001b[1;33m\u001b[0m\u001b[0m\n\u001b[0;32m      6\u001b[0m \u001b[1;33m\u001b[0m\u001b[0m\n\u001b[1;32m----> 7\u001b[1;33m \u001b[0mt\u001b[0m\u001b[1;33m,\u001b[0m\u001b[0mv\u001b[0m \u001b[1;33m=\u001b[0m \u001b[0mrk4_solve\u001b[0m\u001b[1;33m(\u001b[0m\u001b[1;36m0\u001b[0m\u001b[1;33m,\u001b[0m\u001b[1;36m4\u001b[0m\u001b[1;33m,\u001b[0m\u001b[1;36m1e-2\u001b[0m\u001b[1;33m,\u001b[0m \u001b[0mUpLfQ\u001b[0m\u001b[1;33m,\u001b[0m\u001b[0mF\u001b[0m\u001b[1;33m,\u001b[0m\u001b[0mJentries\u001b[0m\u001b[1;33m)\u001b[0m\u001b[1;33m\u001b[0m\u001b[1;33m\u001b[0m\u001b[0m\n\u001b[0m\u001b[0;32m      8\u001b[0m \u001b[0mt2\u001b[0m\u001b[1;33m,\u001b[0m\u001b[0mv2\u001b[0m \u001b[1;33m=\u001b[0m \u001b[0mrk4_solve\u001b[0m\u001b[1;33m(\u001b[0m\u001b[1;36m0\u001b[0m\u001b[1;33m,\u001b[0m\u001b[1;36m2\u001b[0m\u001b[1;33m,\u001b[0m\u001b[1;36m1e-2\u001b[0m\u001b[1;33m,\u001b[0m \u001b[0mUpRtQ\u001b[0m\u001b[1;33m,\u001b[0m\u001b[0mF\u001b[0m\u001b[1;33m,\u001b[0m\u001b[0mJentries\u001b[0m\u001b[1;33m)\u001b[0m\u001b[1;33m\u001b[0m\u001b[1;33m\u001b[0m\u001b[0m\n\u001b[0;32m      9\u001b[0m \u001b[0mt3\u001b[0m\u001b[1;33m,\u001b[0m\u001b[0mv3\u001b[0m \u001b[1;33m=\u001b[0m \u001b[0mrk4_solve\u001b[0m\u001b[1;33m(\u001b[0m\u001b[1;36m0\u001b[0m\u001b[1;33m,\u001b[0m\u001b[1;36m2\u001b[0m\u001b[1;33m,\u001b[0m\u001b[1;36m1e-2\u001b[0m\u001b[1;33m,\u001b[0m \u001b[0mLwLfQ\u001b[0m\u001b[1;33m,\u001b[0m\u001b[0mF\u001b[0m\u001b[1;33m,\u001b[0m\u001b[0mJentries\u001b[0m\u001b[1;33m)\u001b[0m\u001b[1;33m\u001b[0m\u001b[1;33m\u001b[0m\u001b[0m\n",
      "\u001b[1;32m<ipython-input-11-d13e2295aea3>\u001b[0m in \u001b[0;36mrk4_solve\u001b[1;34m(t0, tf, h, y0, func, J)\u001b[0m\n\u001b[0;32m     12\u001b[0m     \u001b[0mt\u001b[0m\u001b[1;33m,\u001b[0m \u001b[0my\u001b[0m \u001b[1;33m=\u001b[0m \u001b[0mt0\u001b[0m\u001b[1;33m,\u001b[0m \u001b[0my0\u001b[0m\u001b[1;33m\u001b[0m\u001b[1;33m\u001b[0m\u001b[0m\n\u001b[0;32m     13\u001b[0m     \u001b[1;32mwhile\u001b[0m \u001b[0mt\u001b[0m \u001b[1;33m<\u001b[0m \u001b[0mtf\u001b[0m\u001b[1;33m:\u001b[0m\u001b[1;33m\u001b[0m\u001b[1;33m\u001b[0m\u001b[0m\n\u001b[1;32m---> 14\u001b[1;33m         \u001b[0my\u001b[0m \u001b[1;33m+=\u001b[0m \u001b[0mrk4\u001b[0m\u001b[1;33m(\u001b[0m\u001b[0mt\u001b[0m\u001b[1;33m,\u001b[0m\u001b[0my\u001b[0m\u001b[1;33m,\u001b[0m\u001b[0mh\u001b[0m\u001b[1;33m,\u001b[0m\u001b[0mfunc\u001b[0m\u001b[1;33m,\u001b[0m\u001b[0mJ\u001b[0m\u001b[1;33m)\u001b[0m\u001b[1;33m\u001b[0m\u001b[1;33m\u001b[0m\u001b[0m\n\u001b[0m\u001b[0;32m     15\u001b[0m         \u001b[0mt\u001b[0m \u001b[1;33m+=\u001b[0m \u001b[0mh\u001b[0m\u001b[1;33m\u001b[0m\u001b[1;33m\u001b[0m\u001b[0m\n\u001b[0;32m     16\u001b[0m         \u001b[0myv\u001b[0m\u001b[1;33m.\u001b[0m\u001b[0mappend\u001b[0m\u001b[1;33m(\u001b[0m\u001b[0my\u001b[0m\u001b[1;33m.\u001b[0m\u001b[0mcopy\u001b[0m\u001b[1;33m(\u001b[0m\u001b[1;33m)\u001b[0m\u001b[1;33m)\u001b[0m\u001b[1;33m\u001b[0m\u001b[1;33m\u001b[0m\u001b[0m\n",
      "\u001b[1;32m<ipython-input-11-d13e2295aea3>\u001b[0m in \u001b[0;36mrk4\u001b[1;34m(t, y, h, func, J)\u001b[0m\n\u001b[0;32m      1\u001b[0m \u001b[1;31m# Use the RK4 solver to complete Linearizing the Jacobian\u001b[0m\u001b[1;33m\u001b[0m\u001b[1;33m\u001b[0m\u001b[1;33m\u001b[0m\u001b[0m\n\u001b[0;32m      2\u001b[0m \u001b[1;32mdef\u001b[0m \u001b[0mrk4\u001b[0m\u001b[1;33m(\u001b[0m\u001b[0mt\u001b[0m\u001b[1;33m,\u001b[0m\u001b[0my\u001b[0m\u001b[1;33m,\u001b[0m\u001b[0mh\u001b[0m\u001b[1;33m,\u001b[0m\u001b[0mfunc\u001b[0m\u001b[1;33m,\u001b[0m\u001b[0mJ\u001b[0m\u001b[1;33m)\u001b[0m\u001b[1;33m:\u001b[0m\u001b[1;33m\u001b[0m\u001b[1;33m\u001b[0m\u001b[0m\n\u001b[1;32m----> 3\u001b[1;33m     \u001b[0mk1\u001b[0m \u001b[1;33m=\u001b[0m \u001b[0mh\u001b[0m\u001b[1;33m*\u001b[0m\u001b[0mfunc\u001b[0m\u001b[1;33m(\u001b[0m\u001b[0mt\u001b[0m\u001b[1;33m,\u001b[0m\u001b[0my\u001b[0m\u001b[1;33m,\u001b[0m\u001b[0mJ\u001b[0m\u001b[1;33m)\u001b[0m\u001b[1;33m\u001b[0m\u001b[1;33m\u001b[0m\u001b[0m\n\u001b[0m\u001b[0;32m      4\u001b[0m     \u001b[0mk2\u001b[0m \u001b[1;33m=\u001b[0m \u001b[0mh\u001b[0m\u001b[1;33m*\u001b[0m\u001b[0mfunc\u001b[0m\u001b[1;33m(\u001b[0m\u001b[0mt\u001b[0m\u001b[1;33m+\u001b[0m\u001b[1;36m0.5\u001b[0m\u001b[1;33m*\u001b[0m\u001b[0mh\u001b[0m\u001b[1;33m,\u001b[0m\u001b[0my\u001b[0m\u001b[1;33m+\u001b[0m\u001b[1;36m0.5\u001b[0m\u001b[1;33m*\u001b[0m\u001b[0mk1\u001b[0m\u001b[1;33m,\u001b[0m\u001b[0mJ\u001b[0m\u001b[1;33m)\u001b[0m\u001b[1;33m\u001b[0m\u001b[1;33m\u001b[0m\u001b[0m\n\u001b[0;32m      5\u001b[0m     \u001b[0mk3\u001b[0m \u001b[1;33m=\u001b[0m \u001b[0mh\u001b[0m\u001b[1;33m*\u001b[0m\u001b[0mfunc\u001b[0m\u001b[1;33m(\u001b[0m\u001b[0mt\u001b[0m\u001b[1;33m+\u001b[0m\u001b[1;36m0.5\u001b[0m\u001b[1;33m*\u001b[0m\u001b[0mh\u001b[0m\u001b[1;33m,\u001b[0m\u001b[0my\u001b[0m\u001b[1;33m+\u001b[0m\u001b[1;36m0.5\u001b[0m\u001b[1;33m*\u001b[0m\u001b[0mk2\u001b[0m\u001b[1;33m,\u001b[0m\u001b[0mJ\u001b[0m\u001b[1;33m)\u001b[0m\u001b[1;33m\u001b[0m\u001b[1;33m\u001b[0m\u001b[0m\n",
      "\u001b[1;32m<ipython-input-11-d13e2295aea3>\u001b[0m in \u001b[0;36mF\u001b[1;34m(t, U, J)\u001b[0m\n\u001b[0;32m     22\u001b[0m     \u001b[1;31m# System of Equations\u001b[0m\u001b[1;33m\u001b[0m\u001b[1;33m\u001b[0m\u001b[1;33m\u001b[0m\u001b[0m\n\u001b[0;32m     23\u001b[0m     return np.array([ J[0,0]*U[0] + J[0,1]*U[1],\n\u001b[1;32m---> 24\u001b[1;33m                       J[1,0]*U[0] + J[1,1]*U[1]])\n\u001b[0m",
      "\u001b[1;31mIndexError\u001b[0m: index 1 is out of bounds for axis 0 with size 1"
     ]
    }
   ],
   "source": [
    "UpLfQ = [-0.005, .005]  # Value in upper left quadrant (Blue)\n",
    "UpRtQ = [0.01, .005]   # Value in upper right quadrant (Red)\n",
    "LwLfQ = [-0.01, -0.005] # Value in lower left quadrantn(Purple)\n",
    "LwRtQ = [0.005, -0.005]  # Value in lower right quadrant (Yellow)\n",
    "\n",
    "\n",
    "t,v = rk4_solve(0,4,1e-2, UpLfQ,F,Jentries)\n",
    "t2,v2 = rk4_solve(0,2,1e-2, UpRtQ,F,Jentries)\n",
    "t3,v3 = rk4_solve(0,2,1e-2, LwLfQ,F,Jentries)\n",
    "t4,v4 = rk4_solve(0,2,1e-2, LwRtQ,F,Jentries)\n",
    "\n",
    "#np.shape(v)\n",
    "plt.plot(v[:,0],v[:,1], 'b',v2[:,0], v2[:,1],'r',v3[:,0], v3[:,1],'m',v4[:,0], v4[:,1],'y',\n",
    "         [-.009,.009],[0,0],'k',[0,0],[-.009, .009],'k');\n",
    "\n",
    "plt.xlabel('k',size=15)\n",
    "plt.ylabel('c',size=15);"
   ]
  },
  {
   "cell_type": "code",
   "execution_count": null,
   "metadata": {},
   "outputs": [],
   "source": []
  }
 ],
 "metadata": {
  "kernelspec": {
   "display_name": "Python 3",
   "language": "python",
   "name": "python3"
  },
  "language_info": {
   "codemirror_mode": {
    "name": "ipython",
    "version": 3
   },
   "file_extension": ".py",
   "mimetype": "text/x-python",
   "name": "python",
   "nbconvert_exporter": "python",
   "pygments_lexer": "ipython3",
   "version": "3.7.3"
  }
 },
 "nbformat": 4,
 "nbformat_minor": 2
}
