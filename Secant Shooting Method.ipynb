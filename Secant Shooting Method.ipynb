{
 "cells": [
  {
   "cell_type": "code",
   "execution_count": 1,
   "metadata": {},
   "outputs": [],
   "source": [
    "import numpy as np\n",
    "import matplotlib.pyplot as plt\n",
    "from scipy.integrate import odeint, ode\n",
    "from scipy.special import roots_laguerre\n",
    "import timeit"
   ]
  },
  {
   "cell_type": "code",
   "execution_count": 2,
   "metadata": {},
   "outputs": [],
   "source": [
    "def rk4(odefunc,y0,t0,tf,dt,r,backwards=False):\n",
    "    tv, p = [t0], [np.array(y0,dtype=float)]\n",
    "    y, t = y0, t0\n",
    "    Nt = int(np.fabs(tf-t0)/dt)+1\n",
    "    if backwards:\n",
    "        dt = -1*dt\n",
    "        \n",
    "    tic = timeit.default_timer()\n",
    "\n",
    "    for tstep in range(Nt):\n",
    "        k1 = dt*odefunc(t, y, r)\n",
    "        k2 = dt*odefunc(t+dt/2, y+k1/2, r)\n",
    "        k3 = dt*odefunc(t+dt/2, y+k2/2, r)\n",
    "        k4 = dt*odefunc(t+dt, y+k3, r)\n",
    "        y += (k1 + 2*k2 + 2*k3 + k4)/6\n",
    "                \n",
    "        t += dt\n",
    "        p.append(np.array(y,dtype=float)) # speed & storage test\n",
    "        tv.append(t)\n",
    "\n",
    "    toc = timeit.default_timer()\n",
    "    print('Run complete in {:4.2f} seconds.'.format(toc-tic))\n",
    "    return tv, p"
   ]
  },
  {
   "cell_type": "code",
   "execution_count": 130,
   "metadata": {},
   "outputs": [],
   "source": [
    "def ivp_solve(odefunc,y0,t0,tf,dt,r,backwards=False):\n",
    "    tv, sol = [], []\n",
    "\n",
    "    if backwards:\n",
    "        dt = -1*dt\n",
    "        f = ode(odefunc).set_integrator('lsoda',with_jacobian=True)\n",
    "        f.set_initial_value(y0,tf).set_f_params(r)\n",
    "        \n",
    "        tic = timeit.default_timer()\n",
    "        while f.successful() and f.t > t0:\n",
    "            f.integrate(f.t+dt)\n",
    "            sol.append(f.y)\n",
    "            tv.append(f.t)\n",
    "        toc = timeit.default_timer()\n",
    "        print('Run complete in {:4.2f} seconds.'.format(toc-tic))\n",
    "\n",
    "    return tv, sol"
   ]
  },
  {
   "cell_type": "markdown",
   "metadata": {},
   "source": [
    "###### Solve the nonlinear system of equations\n",
    "\\begin{align}\n",
    "\\dot{k} &= k^\\alpha - \\left(\\delta + n + x\\right)k - c\\\\\n",
    "\\dot{c} &= c\\left(\\alpha k^{\\alpha - 1} - \\left(\\delta + x\\right) - \\left(\\rho + be^{-\\gamma t}\\right) \\right)\n",
    "\\end{align}\n",
    "\n",
    "with $k(0) = k_0 = 0.25k^\\ast_0$."
   ]
  },
  {
   "cell_type": "code",
   "execution_count": 4,
   "metadata": {},
   "outputs": [],
   "source": [
    "def Fode(t,y,r):\n",
    "    # System of Equations\n",
    "    # order for r: alpha, delta, xt, n, rho, b, gamma\n",
    "    alpha, delta, xt, n, rho, b, gamma = r[0], r[1], r[2], r[3], r[4], r[5], r[6]\n",
    "    return np.array([y[0]**alpha-(delta+xt+n)*y[0]-y[1],\n",
    "            y[1]*(alpha*y[0]**(alpha-1)-(delta+xt)-(rho+b*np.exp(-gamma*t)))])"
   ]
  },
  {
   "cell_type": "code",
   "execution_count": 124,
   "metadata": {},
   "outputs": [],
   "source": [
    "def jac(t,y,r):\n",
    "    # order for r: alpha, delta, xt, n, rho, b, gamma\n",
    "    alpha, delta, xt, n, rho, b, gamma = r[0], r[1], r[2], r[3], r[4], r[5], r[6]\n",
    "    return np.array([[alpha*y[0]**(alpha-1)-(delta+n+xt),-1],\n",
    "            [y[1]*alpha*(alpha-1)*y[0]**(alpha-2),alpha*y[0]**(alpha-1)-(delta+xt)-(rtp+b*np.exp(-gamma*t))]])"
   ]
  },
  {
   "cell_type": "code",
   "execution_count": 5,
   "metadata": {},
   "outputs": [],
   "source": [
    "def g(x,b,gamma):\n",
    "    return np.exp(-b/gamma)*np.exp((b/gamma)*np.exp(-gamma*x))"
   ]
  },
  {
   "cell_type": "code",
   "execution_count": 6,
   "metadata": {},
   "outputs": [
    {
     "name": "stdout",
     "output_type": "stream",
     "text": [
      "k* no commitment: 2456.8795\n",
      "c* no commitment: 152.4195\n",
      "k(0) = 614.2199\n",
      "k* commitment: 4822.5309\n",
      "c* commitment: 192.9012\n",
      "lambda = 0.0365\n"
     ]
    }
   ],
   "source": [
    "alpha, delta, xt, n = 0.75, 0.05, 0.02, 0.01\n",
    "rho, b, gamma = 0.02, 0.5, 0.5\n",
    "#----------------------------------------------------------------\n",
    "N = 100\n",
    "x,w = roots_laguerre(N)\n",
    "x /= (rho-n)\n",
    "w /= (rho-n)\n",
    "Omega = w.dot(g(x,b,gamma))\n",
    "lam = 1/Omega+n\n",
    "#----------------------------------------------------------------\n",
    "# No Commitment\n",
    "#----------------------------------------------------------------\n",
    "kzed = (alpha/(delta + lam + xt))**(1/(1-alpha)) # No commitment\n",
    "czed = kzed**alpha - (delta + n + xt)*kzed # No commitment\n",
    "#----------------------------------------------------------------\n",
    "# Full Commitment\n",
    "#----------------------------------------------------------------\n",
    "kinf = (alpha/(delta + rho + xt))**(1/(1-alpha)) # Commitment\n",
    "cinf = kinf**alpha - (delta + n + xt)*kinf # Commitment\n",
    "#----------------------------------------------------------------\n",
    "# Equilibria under no-commitment\n",
    "#----------------------------------------------------------------\n",
    "eq = np.array([kzed,czed])\n",
    "print('k* no commitment: {:4.4f}'.format(kzed))\n",
    "print('c* no commitment: {:4.4f}'.format(czed))\n",
    "print('k(0) = {:2.4f}'.format(0.25*kzed))\n",
    "print('k* commitment: {:4.4f}'.format(kinf))\n",
    "print('c* commitment: {:4.4f}'.format(cinf))\n",
    "print('lambda = {:4.4f}'.format(lam))"
   ]
  },
  {
   "cell_type": "markdown",
   "metadata": {},
   "source": [
    "### Full Commitment Case"
   ]
  },
  {
   "cell_type": "code",
   "execution_count": 131,
   "metadata": {},
   "outputs": [
    {
     "name": "stdout",
     "output_type": "stream",
     "text": [
      "Iteration 0\n",
      "Run complete in 1.21 seconds.\n",
      "Run complete in 1.19 seconds.\n",
      "Iteration 1\n",
      "Run complete in 1.16 seconds.\n",
      "Run complete in 1.15 seconds.\n",
      "Iteration 2\n",
      "Run complete in 1.22 seconds.\n",
      "Run complete in 1.21 seconds.\n",
      "Iteration 3\n",
      "Run complete in 1.29 seconds.\n",
      "Run complete in 1.25 seconds.\n",
      "Iteration 4\n",
      "Run complete in 1.39 seconds.\n",
      "Run complete in 1.24 seconds.\n",
      "Iteration 5\n",
      "Run complete in 1.24 seconds.\n",
      "Run complete in 1.25 seconds.\n",
      "Iteration 6\n",
      "Run complete in 1.19 seconds.\n",
      "Run complete in 1.24 seconds.\n",
      "Iteration 7\n",
      "Run complete in 1.25 seconds.\n",
      "Run complete in 1.31 seconds.\n",
      "Iteration 8\n",
      "Run complete in 1.17 seconds.\n",
      "Run complete in 1.20 seconds.\n",
      "Iteration 9\n",
      "Run complete in 1.26 seconds.\n",
      "Run complete in 1.28 seconds.\n",
      "Run complete in 1.20 seconds.\n",
      "k_0 = 614.2198780\n",
      "k(0) ~ 614.2198780\n",
      "c(0) ~ 77.3051275\n"
     ]
    }
   ],
   "source": [
    "# Full Commitment\n",
    "alpha, delta, n, xt = 0.75, 0.05, 0.01, 0.02\n",
    "rho, b, gamma = 0.02, 0.5, 0.5\n",
    "# order for r: alpha, delta, xt, n, rho, b, gamma\n",
    "r = (alpha, delta, xt, n, rho, b, gamma)\n",
    "# Set the starting conditions\n",
    "k0 = 0.25*kzed\n",
    "kstart = kinf\n",
    "\n",
    "# Set the simulation paramters\n",
    "t0, tf, dt = 0, 200, 2e-3\n",
    "eps = 1e-4\n",
    "tol, error, nits, MAXITS = 1e-8, 1, 1, 20\n",
    "print('Iteration {:d}'.format(0))\n",
    "\n",
    "cu = cinf\n",
    "y0 = [kstart, cu]\n",
    "btv, bp = ivp_solve(Fode,y0,t0,tf,dt,r,backwards=True)\n",
    "ku = bp[-1][0]\n",
    "\n",
    "cl = cinf-eps\n",
    "y0 = [kstart, cl]\n",
    "btv, bp = ivp_solve(Fode,y0,t0,tf,dt,r,backwards=True)\n",
    "kl = bp[-1][0]\n",
    "\n",
    "# Start the while loop\n",
    "while error > tol and nits < MAXITS:\n",
    "    print('Iteration {:d}'.format(nits))\n",
    "    # Store c_n to be c_{n-1} in the next iteration\n",
    "    \n",
    "    fl = kl-k0\n",
    "    fu = ku-k0\n",
    "    \n",
    "    tmp = cu\n",
    "    # Store c_{n+1} using the secant method by overwriting c_n\n",
    "    cu = cl - fl*(cu-cl)/(fu-fl)\n",
    "    # Swap in c_{n-1}\n",
    "    cl = tmp\n",
    "    # Set new initial conditions and solve the IVP\n",
    "    y0 = [kstart, cu]\n",
    "    btv, bp = ivp_solve(Fode,y0,t0,tf,dt,r,backwards=True)\n",
    "    ku = bp[-1][0]\n",
    "\n",
    "    y0 = [kstart, cl]\n",
    "    btv, bp = ivp_solve(Fode,y0,t0,tf,dt,r,backwards=True)\n",
    "    kl = bp[-1][0]\n",
    "    # Compute the error using the Cauchy-criterion for convergence\n",
    "    error = np.fabs(cl-cu)\n",
    "    # Evalute the function\n",
    "    nits += 1\n",
    "\n",
    "#(kl,cu),(kl,cl),(k0,c0)\n",
    "cstart = (k0-kl)*(cu-cl)/(ku-kl)+cl\n",
    "y0 = [kstart, cstart]\n",
    "btv, bp = ivp_solve(Fode,y0,t0,tf,dt,r,backwards=True)\n",
    "\n",
    "bprod = np.array(bp)[:,0]\n",
    "bcons = np.array(bp)[:,1]\n",
    "kinf0 = bprod[-1]\n",
    "cinf0 = bcons[-1]\n",
    "print('k_0 = {:2.7f}'.format(k0))\n",
    "print('k(0) ~ {:2.7f}'.format(kinf0))\n",
    "print('c(0) ~ {:2.7f}'.format(cinf0))"
   ]
  },
  {
   "cell_type": "code",
   "execution_count": 120,
   "metadata": {},
   "outputs": [
    {
     "data": {
      "image/png": "[encoded data removed]",
      "text/plain": [
       "<Figure size 432x288 with 1 Axes>"
      ]
     },
     "metadata": {
      "needs_background": "light"
     },
     "output_type": "display_data"
    },
    {
     "data": {
      "image/png": "[encoded data removed]",
      "text/plain": [
       "<Figure size 432x288 with 1 Axes>"
      ]
     },
     "metadata": {
      "needs_background": "light"
     },
     "output_type": "display_data"
    }
   ],
   "source": [
    "plt.figure()\n",
    "plt.plot(btv,bcons,'r',[t0,tf],[cinf,cinf],'k--')\n",
    "plt.xlabel('Years')\n",
    "plt.ylabel('Consumption')\n",
    "plt.grid(b=True)\n",
    "plt.axis([t0,tf,np.min(bcons)*0.9,np.max(bcons)*1.1])\n",
    "\n",
    "plt.figure()\n",
    "plt.plot(btv,bprod,'r',[t0,tf],[kinf,kinf],'k--')\n",
    "plt.xlabel('Years')\n",
    "plt.ylabel('Capital Stock')\n",
    "plt.grid(b=True)\n",
    "plt.axis([t0,tf,np.min(bprod)*0.9,np.max(bprod)*1.1]);"
   ]
  },
  {
   "cell_type": "markdown",
   "metadata": {},
   "source": [
    "### No Commitment Case"
   ]
  },
  {
   "cell_type": "code",
   "execution_count": 74,
   "metadata": {},
   "outputs": [],
   "source": [
    "def dc(k,c,r):\n",
    "    alpha, delta, xt, n, lam = r[0], r[1], r[2], r[3], r[4]\n",
    "    return c*(alpha*k**(alpha-1)-(delta+xt)-lam)/(k**alpha-(delta+n+xt)*k-c)"
   ]
  },
  {
   "cell_type": "code",
   "execution_count": 79,
   "metadata": {},
   "outputs": [],
   "source": [
    "# No commitment\n",
    "alpha, delta, xt, n = 0.75, 0.05, 0.02, 0.01\n",
    "# order for r: alpha, delta, xt, n, lam, b, gamma\n",
    "r = (alpha, delta, xt, n, lam)\n",
    "# Set the starting conditions\n",
    "eps = 1e-4\n",
    "k0 = 0.25*kzed\n",
    "kstart, kfinish, cstart = kzed, k0, czed-eps"
   ]
  },
  {
   "cell_type": "code",
   "execution_count": 94,
   "metadata": {},
   "outputs": [
    {
     "name": "stdout",
     "output_type": "stream",
     "text": [
      "k_0 = 614.2198780\n",
      "k(0) ~ 614.2198780\n",
      "c(0) ~ 43.8919088\n"
     ]
    }
   ],
   "source": [
    "dk = -1e-2\n",
    "f = ode(dc).set_integrator('lsoda')\n",
    "f.set_initial_value(cstart,kstart).set_f_params(r)\n",
    "kv, sol = [], []\n",
    "\n",
    "while f.successful() and f.t > k0:\n",
    "    f.integrate(f.t+dk)\n",
    "    sol.append(f.y[0])\n",
    "    kv.append(f.t)\n",
    "c00 = sol[-1]\n",
    "print('k_0 = {:2.7f}'.format(k0))\n",
    "print('k(0) ~ {:2.7f}'.format(k0))\n",
    "print('c(0) ~ {:2.7f}'.format(c00))"
   ]
  },
  {
   "cell_type": "code",
   "execution_count": 132,
   "metadata": {},
   "outputs": [
    {
     "data": {
      "text/plain": [
       "0.7612614620531943"
      ]
     },
     "execution_count": 132,
     "metadata": {},
     "output_type": "execute_result"
    }
   ],
   "source": [
    "(cinf0-c00)/c00"
   ]
  },
  {
   "cell_type": "code",
   "execution_count": null,
   "metadata": {},
   "outputs": [],
   "source": []
  }
 ],
 "metadata": {
  "kernelspec": {
   "display_name": "Python 3",
   "language": "python",
   "name": "python3"
  },
  "language_info": {
   "codemirror_mode": {
    "name": "ipython",
    "version": 3
   },
   "file_extension": ".py",
   "mimetype": "text/x-python",
   "name": "python",
   "nbconvert_exporter": "python",
   "pygments_lexer": "ipython3",
   "version": "3.7.6"
  }
 },
 "nbformat": 4,
 "nbformat_minor": 2
}
