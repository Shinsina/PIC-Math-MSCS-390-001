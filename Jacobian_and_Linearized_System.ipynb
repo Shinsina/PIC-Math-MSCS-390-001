{
 "cells": [
  {
   "cell_type": "code",
   "execution_count": 1,
   "metadata": {},
   "outputs": [],
   "source": [
    "import numpy as np\n",
    "import matplotlib.pyplot as plt\n",
    "import sympy as sp\n",
    "from sympy.plotting import plot\n",
    "import operator\n",
    "from IPython.display import Image\n",
    "from IPython.core.display import HTML "
   ]
  },
  {
   "cell_type": "code",
   "execution_count": 2,
   "metadata": {},
   "outputs": [],
   "source": [
    "def nullcline_intersection(sys, r):\n",
    "    x, y = sp.symbols('x, y')\n",
    "    eq1 = sys(x, y, r)[0]\n",
    "    eq2 = sys(x, y, r)[1]\n",
    "    sols = sp.solve([eq1, eq2], [x, y])\n",
    "    return np.array(sols,dtype=float)\n",
    "\n",
    "def plot_flow(sys, r, x_window, y_window, num_arrows):\n",
    "    \n",
    "    linx = np.linspace(x_window[0], x_window[1], num_arrows)\n",
    "    liny = np.linspace(y_window[0], y_window[1], num_arrows)\n",
    "    X, Y = np.meshgrid(linx, liny)\n",
    "    \n",
    "    Xa = sys(X, Y, r)[0]\n",
    "    Ya = sys(X, Y, r)[1]\n",
    "    \n",
    "    n = np.sqrt(Xa*Xa + Ya*Ya)\n",
    "    plt.title('Slope Field and Nullcline Intersections');\n",
    "    plt.quiver(X, Y, Xa/n, Ya/n, color='g');\n",
    "    \n",
    "\n",
    "def str_to_func(s):\n",
    "    return eval(f'lambda x, y : {s}')"
   ]
  },
  {
   "cell_type": "code",
   "execution_count": 3,
   "metadata": {},
   "outputs": [],
   "source": [
    "def jacsysFC(k,c,r):\n",
    "    # G1 = dc/dt\n",
    "    # G2 = dk/dt\n",
    "    # J = [dG1/dc, dG1/dk\n",
    "    #      dG2/dc, dG2/dk]\n",
    "    alpha, delta, xt, n, rho, b, gamma = r[0], r[1], r[2], r[3], r[4], r[5], r[6]\n",
    "    J = np.array([[alpha*k**(alpha-1)-(delta+xt+n), -1],\n",
    "    [c*alpha*(alpha-1)*k**(alpha-2), alpha*k**(alpha-1) - (delta+xt) - rho]])\n",
    "    return J\n",
    "\n",
    "# Jacobian of the Full Comittment Case\n",
    "def dFull(k,c,r):\n",
    "    alpha, delta, xt, n, rho, b, gamma = r[0], r[1], r[2], r[3], r[4], r[5], r[6]\n",
    "    G1 = k**alpha - (delta+xt+n)*k - c\n",
    "    G2 = c*(alpha*k**(alpha-1) - (delta+xt) - rho) # b*exp(-gamma*t) -> 0 as t -> infty\n",
    "    # returning the array [dK, dC]\n",
    "    return [G1, G2]\n",
    "\n",
    "# Jacobian of the No Comittment Case\n",
    "def dNo(k,c,r):\n",
    "    alpha, delta, xt, n, rho, b, gamma = r[0], r[1], r[2], r[3], r[4], r[5], r[6]\n",
    "    G1 = k**alpha - (delta+xt+n)*k - c\n",
    "    G2 = c*(alpha*k**(alpha-1) - (delta+xt) - lam)\n",
    "    # returning the array [dK, dC]\n",
    "    return [G1, G2]\n",
    "\n",
    "def dJ(k,c,r):\n",
    "    return [r[0]*k+r[1]*c,r[2]*k+r[3]*c]\n",
    "\n",
    "def jacobian(sys, eq, r):\n",
    "    x = sp.Symbol('k'); y = sp.Symbol('c')\n",
    "    x_eq = sys(x, y, r)[0]\n",
    "    y_eq = sys(x, y, r)[1]\n",
    "    jac = [ [ sp.Derivative(x_eq, x).doit(), sp.Derivative(x_eq, y).doit() ], \n",
    "           [ sp.Derivative(y_eq, x).doit(), sp.Derivative(y_eq, y).doit()]]\n",
    "    fnr1 = [ str_to_func(e.__repr__()) for e in jac[0] ]\n",
    "    fnr2 = [ str_to_func(e.__repr__()) for e in jac[1] ]\n",
    "    return [fnr1, fnr2]\n",
    "\n",
    "def print_jacobian(sys,r):\n",
    "    x = sp.Symbol('k'); y = sp.Symbol('c')\n",
    "    x_eqn = sys(x, y, r)[0]\n",
    "    y_eqn = sys(x, y, r)[1]\n",
    "    jac = [ [ sp.Derivative(x_eqn, x).doit(), sp.Derivative(x_eqn, y).doit() ], \n",
    "           [ sp.Derivative(y_eqn, x).doit(), sp.Derivative(y_eqn, y).doit()]]\n",
    "    print(jac)"
   ]
  },
  {
   "cell_type": "code",
   "execution_count": 4,
   "metadata": {},
   "outputs": [
    {
     "ename": "NameError",
     "evalue": "name 'r' is not defined",
     "output_type": "error",
     "traceback": [
      "\u001b[1;31m---------------------------------------------------------------------------\u001b[0m",
      "\u001b[1;31mNameError\u001b[0m                                 Traceback (most recent call last)",
      "\u001b[1;32m<ipython-input-4-352981a6a610>\u001b[0m in \u001b[0;36m<module>\u001b[1;34m\u001b[0m\n\u001b[1;32m----> 1\u001b[1;33m \u001b[0mprint_jacobian\u001b[0m\u001b[1;33m(\u001b[0m\u001b[0mdNo\u001b[0m\u001b[1;33m,\u001b[0m\u001b[0mr\u001b[0m\u001b[1;33m)\u001b[0m\u001b[1;33m\u001b[0m\u001b[1;33m\u001b[0m\u001b[0m\n\u001b[0m",
      "\u001b[1;31mNameError\u001b[0m: name 'r' is not defined"
     ]
    }
   ],
   "source": [
    "print_jacobian(dNo,r)"
   ]
  },
  {
   "cell_type": "markdown",
   "metadata": {},
   "source": [
    "## RK4 and Linearized System"
   ]
  },
  {
   "cell_type": "code",
   "execution_count": 5,
   "metadata": {},
   "outputs": [],
   "source": [
    "## using keiths notes on full commitment\n",
    "def rk4(t,y,h,func,J):\n",
    "    k1 = h*func(t,y,J)\n",
    "    k2 = h*func(t+0.5*h,y+0.5*k1,J)\n",
    "    k3 = h*func(t+0.5*h,y+0.5*k2,J)\n",
    "    k4 = h*func(t+h,y+k3,J)\n",
    "    return (k1 + 2*k2 + 2*k3 + k4)/6\n",
    "\n",
    "# Homebrew Solver: Euler's Method\n",
    "def rk4_solve(t0,tf,h,y0,func,J):\n",
    "    tv, yv, = [], []\n",
    "    t, y = t0, y0\n",
    "    while t < tf:\n",
    "        y += rk4(t,y,h,func,J)\n",
    "        t += h\n",
    "        yv.append(y.copy())\n",
    "        tv.append(t)\n",
    "    return np.array(tv), np.array(yv)\n",
    "\n",
    "def F(t,U,J):\n",
    "    # System of Equations\n",
    "    return np.array([ J[0,0]*U[0] + J[0,1]*U[1],\n",
    "                      J[1,0]*U[0] + J[1,1]*U[1]])"
   ]
  },
  {
   "cell_type": "code",
   "execution_count": 7,
   "metadata": {},
   "outputs": [],
   "source": [
    "alpha, delta, xt, n = 0.75, 0.05, 0.02, 0.01\n",
    "rho, b, gamma = 0.02, 0.5, 0.5\n",
    "lam = .03653\n",
    "r = (alpha, delta, xt, n, rho, b, gamma)\n",
    "\n",
    "eq = nullcline_intersection(dFull,r)\n",
    "kstar, cstar = eq[0][0], eq[0][1]\n",
    "ca, cb, ka, kb = 1e-6, cstar *1.1, 1e-6, kstar * 1.1"
   ]
  },
  {
   "cell_type": "markdown",
   "metadata": {},
   "source": [
    "### No Commitment Case"
   ]
  },
  {
   "cell_type": "code",
   "execution_count": 8,
   "metadata": {},
   "outputs": [
    {
     "name": "stdout",
     "output_type": "stream",
     "text": [
      "The Jacobian Matrix of the No Committment case:\n",
      "[[ 1.00000000e-02 -1.00000000e+00]\n",
      " [-9.00000000e-04 -1.04083409e-17]]\n",
      " \n",
      "The Eigenvalues and Eigenvectors of the No Commmittment Case:\n",
      "(array([ 0.03541381, -0.02541381]), array([[ 0.99967723,  0.99937352],\n",
      "       [-0.02540561,  0.03539163]]))\n"
     ]
    }
   ],
   "source": [
    "# Equations of k*_0 and c*_0 for No Commitment\n",
    "kzed = (alpha/(delta + lam + xt))**(1/(1-alpha)) \n",
    "czed = kzed**alpha - (delta + n + xt)*kzed \n",
    "\n",
    "eq = nullcline_intersection(dNo,r)\n",
    "c = np.linspace(ca-czed,cb-czed)\n",
    "k = np.linspace(ka-kzed,kb-kzed)\n",
    "JNo = jacsysFC(kstar,cstar,r)\n",
    "JentriesNo = (JNo[0,0],JNo[0,1],JNo[1,0],JNo[1,1])\n",
    "\n",
    "\n",
    "print(\"The Jacobian Matrix of the No Committment case:\")\n",
    "print(JNo)\n",
    "print(\" \")\n",
    "print(\"The Eigenvalues and Eigenvectors of the No Commmittment Case:\")\n",
    "print(np.linalg.eig(JNo))"
   ]
  },
  {
   "cell_type": "code",
   "execution_count": 9,
   "metadata": {},
   "outputs": [
    {
     "name": "stdout",
     "output_type": "stream",
     "text": [
      "[[ 1.00000000e-02 -1.00000000e+00]\n",
      " [-9.00000000e-04 -1.04083409e-17]]\n"
     ]
    },
    {
     "data": {
      "image/png": "[encoded data removed]",
      "text/plain": [
       "<Figure size 432x288 with 1 Axes>"
      ]
     },
     "metadata": {
      "needs_background": "light"
     },
     "output_type": "display_data"
    }
   ],
   "source": [
    "UpLfQ = [-0.005, .005]  # Value in upper left quadrant (Blue)\n",
    "UpRtQ = [0.01, .005]   # Value in upper right quadrant (Red)\n",
    "LwLfQ = [-0.01, -0.005] # Value in lower left quadrantn(Purple)\n",
    "LwRtQ = [0.005, -0.005]  # Value in lower right quadrant (Yellow)\n",
    "\n",
    "# Values in the Jacobian of the No Comittment Case\n",
    "JentriesNo = np.array([[JNo[0,0],JNo[0,1]],[JNo[1,0],JNo[1,1]]])\n",
    "print(JentriesNo)\n",
    "\n",
    "tNo,vNo = rk4_solve(0,2,1e-2, UpLfQ,F,JNo)\n",
    "tNo2,vNo2 = rk4_solve(0,2,1e-2, UpRtQ,F,JNo)\n",
    "tNo3,vNo3 = rk4_solve(0,2,1e-2, LwLfQ,F,JNo)\n",
    "tNo4,vNo4 = rk4_solve(0,2,1e-2, LwRtQ,F,JNo)\n",
    "\n",
    "plt.plot(vNo[:,0],vNo[:,1], 'b',vNo2[:,0], vNo2[:,1],'r',vNo3[:,0], vNo3[:,1],'m',vNo4[:,0], vNo4[:,1],'y',\n",
    "         [-.005,.0050],[0,0],'k',[0,0],[-.0050, .0050],'k');\n",
    "plt.xlabel('k',size=15)\n",
    "plt.ylabel('c',size=15);"
   ]
  },
  {
   "cell_type": "markdown",
   "metadata": {},
   "source": [
    "###### The paths around the stable point, displaying the saddle paths for above the stable point.\n",
    "\n",
    "The green circle is the starting point, and the direction the line goes shows the character of how that point reacts around the steady state."
   ]
  },
  {
   "cell_type": "code",
   "execution_count": 10,
   "metadata": {},
   "outputs": [
    {
     "data": {
      "image/png": "[encoded data removed]",
      "text/plain": [
       "<Figure size 432x288 with 1 Axes>"
      ]
     },
     "metadata": {
      "needs_background": "light"
     },
     "output_type": "display_data"
    }
   ],
   "source": [
    "plt.plot(vNo[:,0],vNo[:,1], 'b', vNo2[:,0],vNo2[:,1], 'r',\n",
    "         [0,0],[0.00499,.00505], 'black', [-.014, .010], [.00499,.00499], 'black',UpRtQ[0],UpRtQ[1],'mo',UpLfQ[0],UpLfQ[1],'mo');\n",
    "plt.xlabel('k',size=15)\n",
    "plt.ylabel('c',size=15);"
   ]
  },
  {
   "cell_type": "code",
   "execution_count": 11,
   "metadata": {},
   "outputs": [
    {
     "data": {
      "image/png": "[encoded data removed]",
      "text/plain": [
       "<Figure size 432x288 with 1 Axes>"
      ]
     },
     "metadata": {
      "needs_background": "light"
     },
     "output_type": "display_data"
    }
   ],
   "source": [
    "plt.plot(vNo3[:,0],vNo3[:,1], 'm', vNo4[:,0],vNo4[:,1], 'y',\n",
    "         [0,0],[-0.00499,-0.005015], 'black', [-.010, .015], [-0.00499,-.00499], 'black', LwRtQ[0],LwRtQ[1],'go',LwLfQ[0],LwLfQ[1],'go');\n",
    "plt.xlabel('k',size=15)\n",
    "plt.ylabel('c',size=15);"
   ]
  },
  {
   "cell_type": "markdown",
   "metadata": {},
   "source": [
    "### Full Commitment Case"
   ]
  },
  {
   "cell_type": "code",
   "execution_count": 12,
   "metadata": {},
   "outputs": [
    {
     "name": "stdout",
     "output_type": "stream",
     "text": [
      "The Jacobian Matrix of the Full Committment case:\n",
      "[[ 1.00000000e-02 -1.00000000e+00]\n",
      " [-9.00000000e-04 -1.04083409e-17]]\n",
      " \n",
      "The Eigenvalues and Eigenvectors of the Full Commmittment Case:\n",
      "(array([ 0.03541381, -0.02541381]), array([[ 0.99967723,  0.99937352],\n",
      "       [-0.02540561,  0.03539163]]))\n"
     ]
    }
   ],
   "source": [
    "alpha, delta, xt, n, rho, b, gamma = 0.75, 0.05, 0.02, 0.01, 0.02, 0.5, 0.5\n",
    "r = (alpha, delta, xt, n, rho, b, gamma)\n",
    "\n",
    "\n",
    "# Equations of k*_inf and c*_inf for Full Commitment\n",
    "kinf = (alpha/(delta + rho + xt))**(1/(1-alpha)) \n",
    "cinf = kinf**alpha - (delta + n + xt)*kinf \n",
    "\n",
    "eq = nullcline_intersection(dFull,r)\n",
    "c = np.linspace(ca-cinf,cb-cinf)\n",
    "k = np.linspace(ka-kinf,kb-kinf)\n",
    "Jinf = jacsysFC(kstar,cstar,r)\n",
    "Jentries = (Jinf[0,0],Jinf[0,1],Jinf[1,0],Jinf[1,1])\n",
    "\n",
    "print(\"The Jacobian Matrix of the Full Committment case:\")\n",
    "print(Jinf)\n",
    "print(\" \")\n",
    "print(\"The Eigenvalues and Eigenvectors of the Full Commmittment Case:\")\n",
    "print(np.linalg.eig(Jinf))\n"
   ]
  },
  {
   "cell_type": "code",
   "execution_count": 13,
   "metadata": {},
   "outputs": [
    {
     "name": "stdout",
     "output_type": "stream",
     "text": [
      "[[ 1.e-02 -1.e+00]\n",
      " [-9.e-04  0.e+00]]\n"
     ]
    },
    {
     "data": {
      "image/png": "[encoded data removed]",
      "text/plain": [
       "<Figure size 432x288 with 1 Axes>"
      ]
     },
     "metadata": {
      "needs_background": "light"
     },
     "output_type": "display_data"
    }
   ],
   "source": [
    "UpLfQ = [-0.005, .005]  # Value in upper left quadrant (Blue)\n",
    "UpRtQ = [0.01, .005]   # Value in upper right quadrant (Red)\n",
    "LwLfQ = [-0.01, -0.005] # Value in lower left quadrantn(Purple)\n",
    "LwRtQ = [0.005, -0.005]  # Value in lower right quadrant (Yellow)\n",
    "\n",
    "# Values in the Jacobian of the No Comittment Case\n",
    "JentriesInf = np.array([[Jinf[0,0],Jinf[0,1]],[Jinf[1,0],Jinf[1,1]]])\n",
    "JentriesInf = np.array([[Jinf[0,0],-1],[Jinf[1,0],0]])\n",
    "\n",
    "print(JentriesInf)\n",
    "\n",
    "\n",
    "tinf,vinf = rk4_solve(0,4,1e-2, UpLfQ,F,JentriesInf)\n",
    "tinf2,vinf2 = rk4_solve(0,2,1e-2, UpRtQ,F,JentriesInf)\n",
    "tinf3,vinf3 = rk4_solve(0,2,1e-2, LwLfQ,F,JentriesInf)\n",
    "tinf4,vinf4 = rk4_solve(0,2,1e-2, LwRtQ,F,JentriesInf)\n",
    "\n",
    "#np.shape(v)\n",
    "plt.plot(vinf[:,0],vinf[:,1], 'b',vinf2[:,0], vinf2[:,1],'r',vinf3[:,0], vinf3[:,1],'m',vinf4[:,0], vinf4[:,1],'y',\n",
    "         [-.009,.009],[0,0],'k',[0,0],[-.009, .009],'k');\n",
    "\n",
    "plt.xlabel('k',size=15)\n",
    "plt.ylabel('c',size=15);"
   ]
  },
  {
   "cell_type": "code",
   "execution_count": null,
   "metadata": {},
   "outputs": [],
   "source": []
  },
  {
   "cell_type": "markdown",
   "metadata": {},
   "source": [
    "###### The paths around the stable point, displaying the saddle paths for above the stable point.\n",
    "\n",
    "The green circle is the starting point, and the direction the line goes shows the character of how that point reacts around the steady state."
   ]
  },
  {
   "cell_type": "code",
   "execution_count": 14,
   "metadata": {},
   "outputs": [
    {
     "data": {
      "image/png": "[encoded data removed]",
      "text/plain": [
       "<Figure size 432x288 with 1 Axes>"
      ]
     },
     "metadata": {
      "needs_background": "light"
     },
     "output_type": "display_data"
    }
   ],
   "source": [
    "plt.plot(vinf[:,0],vinf[:,1], 'b', vinf2[:,0],vinf2[:,1], 'r',\n",
    "         [0,0],[0.00499,.00505], 'black', [-.025, .010], [.00499,.00499], 'black',UpRtQ[0],UpRtQ[1],'go',UpLfQ[0],UpLfQ[1],'go');\n",
    "plt.xlabel('k',size=15)\n",
    "plt.ylabel('c',size=15);"
   ]
  },
  {
   "cell_type": "markdown",
   "metadata": {},
   "source": [
    "###### The paths around the stable point, displaying the saddle paths for below the stable point."
   ]
  },
  {
   "cell_type": "code",
   "execution_count": 15,
   "metadata": {},
   "outputs": [
    {
     "data": {
      "image/png": "[encoded data removed]",
      "text/plain": [
       "<Figure size 432x288 with 1 Axes>"
      ]
     },
     "metadata": {
      "needs_background": "light"
     },
     "output_type": "display_data"
    }
   ],
   "source": [
    "plt.plot(vinf3[:,0],vinf3[:,1], 'm', vinf4[:,0],vinf4[:,1], 'y',\n",
    "         [0,0],[-0.00499,-0.005015], 'black', [-.010, .015], [-0.00499,-.00499], 'black', LwRtQ[0],LwRtQ[1],'go',LwLfQ[0],LwLfQ[1],'go');\n",
    "plt.xlabel('k',size=15)\n",
    "plt.ylabel('c',size=15);"
   ]
  },
  {
   "cell_type": "code",
   "execution_count": null,
   "metadata": {},
   "outputs": [],
   "source": []
  }
 ],
 "metadata": {
  "kernelspec": {
   "display_name": "Python 3",
   "language": "python",
   "name": "python3"
  },
  "language_info": {
   "codemirror_mode": {
    "name": "ipython",
    "version": 3
   },
   "file_extension": ".py",
   "mimetype": "text/x-python",
   "name": "python",
   "nbconvert_exporter": "python",
   "pygments_lexer": "ipython3",
   "version": "3.7.6"
  }
 },
 "nbformat": 4,
 "nbformat_minor": 2
}
