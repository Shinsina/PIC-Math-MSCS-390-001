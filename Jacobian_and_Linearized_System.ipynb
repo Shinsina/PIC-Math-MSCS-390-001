{
 "cells": [
  {
   "cell_type": "code",
   "execution_count": 1,
   "metadata": {},
   "outputs": [],
   "source": [
    "import numpy as np\n",
    "import matplotlib.pyplot as plt\n",
    "import sympy as sp\n",
    "from sympy.plotting import plot\n",
    "import operator\n",
    "from IPython.display import Image\n",
    "from IPython.core.display import HTML "
   ]
  },
  {
   "cell_type": "code",
   "execution_count": 2,
   "metadata": {},
   "outputs": [],
   "source": [
    "def nullcline_intersection(sys, r):\n",
    "    x, y = sp.symbols('x, y')\n",
    "    eq1 = sys(x, y, r)[0]\n",
    "    eq2 = sys(x, y, r)[1]\n",
    "    sols = sp.solve([eq1, eq2], [x, y])\n",
    "    return np.array(sols,dtype=float)\n",
    "\n",
    "def plot_flow(sys, r, x_window, y_window, num_arrows):\n",
    "    \n",
    "    linx = np.linspace(x_window[0], x_window[1], num_arrows)\n",
    "    liny = np.linspace(y_window[0], y_window[1], num_arrows)\n",
    "    X, Y = np.meshgrid(linx, liny)\n",
    "    \n",
    "    Xa = sys(X, Y, r)[0]\n",
    "    Ya = sys(X, Y, r)[1]\n",
    "    \n",
    "    n = np.sqrt(Xa*Xa + Ya*Ya)\n",
    "    plt.title('Slope Field and Nullcline Intersections');\n",
    "    plt.quiver(X, Y, Xa/n, Ya/n, color='g');\n",
    "    \n",
    "\n",
    "def str_to_func(s):\n",
    "    return eval(f'lambda x, y : {s}')"
   ]
  },
  {
   "cell_type": "code",
   "execution_count": 36,
   "metadata": {},
   "outputs": [],
   "source": [
    "def jacsysFC(k,c,r):\n",
    "    # G1 = dc/dt\n",
    "    # G2 = dk/dt\n",
    "    # J = [dG1/dc, dG1/dk\n",
    "    #      dG2/dc, dG2/dk]\n",
    "    alpha, delta, xt, n, rho, b, gamma = r[0], r[1], r[2], r[3], r[4], r[5], r[6]\n",
    "    J = np.array([[alpha*k**(alpha-1)-(delta+xt+n), -1],\n",
    "    [c*alpha*(alpha-1)*k**(alpha-2), alpha*k**(alpha-1) - (delta+xt) - rho]])\n",
    "    return J\n",
    "\n",
    "def dFull(k,c,r):\n",
    "    alpha, delta, xt, n, rho, b, gamma = r[0], r[1], r[2], r[3], r[4], r[5], r[6]\n",
    "    G1 = k**alpha - (delta+xt+n)*k - c\n",
    "    G2 = c*(alpha*k**(alpha-1) - (delta+xt) - rho) # b*exp(-gamma*t) -> 0 as t -> infty\n",
    "    # returning the array [dK, dC]\n",
    "    return [G1, G2]\n",
    "\n",
    "def dNo(k,c,r):\n",
    "    alpha, delta, xt, n, rho, b, gamma = r[0], r[1], r[2], r[3], r[4], r[5], r[6]\n",
    "    G1 = k**alpha - (delta+xt+n)*k - c\n",
    "    G2 = c*(alpha*k**(alpha-1) - (delta+xt) - lam)\n",
    "    # returning the array [dK, dC]\n",
    "    return [G1, G2]\n",
    "\n",
    "def dJ(k,c,r):\n",
    "    return [r[0]*k+r[1]*c,r[2]*k+r[3]*c]\n",
    "\n",
    "def jacobian(sys, eq, r):\n",
    "    x = sp.Symbol('k'); y = sp.Symbol('c')\n",
    "    x_eq = sys(x, y, r)[0]\n",
    "    y_eq = sys(x, y, r)[1]\n",
    "    jac = [ [ sp.Derivative(x_eq, x).doit(), sp.Derivative(x_eq, y).doit() ], \n",
    "           [ sp.Derivative(y_eq, x).doit(), sp.Derivative(y_eq, y).doit()]]\n",
    "    #J = [[str_to_func(jac[0][0].__repr__())(eq[0],eq[1]),str_to_func(jac[0][1].__repr__())(eq[0],eq[1])],\n",
    "    #    [str_to_func(jac[1][0].__repr__())(eq[0],eq[1]),str_to_func(jac[1][1].__repr__())(eq[0],eq[1])]]\n",
    "    fnr1 = [ str_to_func(e.__repr__()) for e in jac[0] ]\n",
    "    fnr2 = [ str_to_func(e.__repr__()) for e in jac[1] ]\n",
    "    return [fnr1, fnr2]\n",
    "\n",
    "def print_jacobian(sys,r):\n",
    "    x = sp.Symbol('k'); y = sp.Symbol('c')\n",
    "    x_eqn = sys(x, y, r)[0]\n",
    "    y_eqn = sys(x, y, r)[1]\n",
    "    jac = [ [ sp.Derivative(x_eqn, x).doit(), sp.Derivative(x_eqn, y).doit() ], \n",
    "           [ sp.Derivative(y_eqn, x).doit(), sp.Derivative(y_eqn, y).doit()]]\n",
    "    print(jac)"
   ]
  },
  {
   "cell_type": "code",
   "execution_count": 7,
   "metadata": {},
   "outputs": [
    {
     "name": "stdout",
     "output_type": "stream",
     "text": [
      "[[0.75*k**(-0.25) - 0.08, -1], [-0.1875*c*k**(-1.25), 0.75*k**(-0.25) - 0.09]]\n"
     ]
    }
   ],
   "source": [
    "print_jacobian(dF,r)"
   ]
  },
  {
   "cell_type": "markdown",
   "metadata": {},
   "source": [
    "## RK4 and Linearized System"
   ]
  },
  {
   "cell_type": "code",
   "execution_count": 8,
   "metadata": {},
   "outputs": [],
   "source": [
    "## using keiths notes on full commitment\n",
    "def rk4(t,y,h,func,J):\n",
    "    k1 = h*func(t,y,J)\n",
    "    k2 = h*func(t+0.5*h,y+0.5*k1,J)\n",
    "    k3 = h*func(t+0.5*h,y+0.5*k2,J)\n",
    "    k4 = h*func(t+h,y+k3,J)\n",
    "    return (k1 + 2*k2 + 2*k3 + k4)/6\n",
    "\n",
    "# Homebrew Solver: Euler's Method\n",
    "def rk4_solve(t0,tf,h,y0,func,J):\n",
    "    tv, yv, = [], []\n",
    "    t, y = t0, y0\n",
    "    while t < tf:\n",
    "        y += rk4(t,y,h,func,J)\n",
    "        t += h\n",
    "        yv.append(y.copy())\n",
    "        tv.append(t)\n",
    "    return np.array(tv), np.array(yv)\n",
    "\n",
    "def F(t,U,J):\n",
    "    # System of Equations\n",
    "    return np.array([ J[0,0]*U[0] + J[0,1]*U[1],\n",
    "                      J[1,0]*U[0] + J[1,1]*U[1]])"
   ]
  },
  {
   "cell_type": "markdown",
   "metadata": {},
   "source": [
    "### No Commitment Case"
   ]
  },
  {
   "cell_type": "code",
   "execution_count": 90,
   "metadata": {},
   "outputs": [
    {
     "name": "stdout",
     "output_type": "stream",
     "text": [
      "The Jacobian Matrix of the No Committment case:\n",
      "[[-7.88761207e-02 -1.00000000e+00]\n",
      " [-3.01199657e-05 -8.88761207e-02]]\n",
      " \n",
      "The Eigenvalues and Eigenvectors of the No Commmittment Case:\n",
      "(array([-0.07645184, -0.0913004 ]), array([[ 0.99999706,  0.99992283],\n",
      "       [-0.00242428,  0.01242332]]))\n"
     ]
    }
   ],
   "source": [
    "#alpha, delta, xt, n, rho, b, gamma = 0.75, 0.05, 0.02, 0.01, 0.02, 0.5, 0.5\n",
    "r = (alpha, delta, xt, n, rho, 0, gamma)\n",
    "\n",
    "alpha, delta, xt, n = 0.75, 0.05, 0.02, 0.01\n",
    "rho, b, gamma = 0.02, 0.5, 0.5\n",
    "lam = .03653\n",
    "\n",
    "# Equations of k*_0 and c*_0 for No Commitment\n",
    "kzed = (alpha/(delta + lam + xt))**(1/(1-alpha)) \n",
    "czed = kzed**alpha - (delta + n + xt)*kzed \n",
    "\n",
    "eq = nullcline_intersection(dNo,r)\n",
    "c = np.linspace(ca-czed,cb-czed)\n",
    "k = np.linspace(ka-kzed,kb-kzed)\n",
    "JNo = jacsysFC(kstar,cstar,r)\n",
    "JentriesNo = (JNo[0,0],JNo[0,1],JNo[1,0],JNo[1,1])\n",
    "\n",
    "\n",
    "print(\"The Jacobian Matrix of the No Committment case:\")\n",
    "print(JNo)\n",
    "print(\" \")\n",
    "print(\"The Eigenvalues and Eigenvectors of the No Commmittment Case:\")\n",
    "print(np.linalg.eig(JNo))"
   ]
  },
  {
   "cell_type": "code",
   "execution_count": 38,
   "metadata": {},
   "outputs": [
    {
     "name": "stdout",
     "output_type": "stream",
     "text": [
      "[[ 1.00000000e-02 -1.00000000e+00]\n",
      " [-9.00000000e-04 -1.04083409e-17]]\n"
     ]
    },
    {
     "data": {
      "image/png": "[encoded data removed]",
      "text/plain": [
       "<Figure size 432x288 with 1 Axes>"
      ]
     },
     "metadata": {
      "needs_background": "light"
     },
     "output_type": "display_data"
    }
   ],
   "source": [
    "UpLfQ = [-0.005, .005]  # Value in upper left quadrant (Blue)\n",
    "UpRtQ = [0.01, .005]   # Value in upper right quadrant (Red)\n",
    "LwLfQ = [-0.01, -0.005] # Value in lower left quadrantn(Purple)\n",
    "LwRtQ = [0.005, -0.005]  # Value in lower right quadrant (Yellow)\n",
    "\n",
    " \n",
    "JentriesNo = np.array([[JNo[0,0],JNo[0,1]],[JNo[1,0],JNo[1,1]]])\n",
    "print(JentriesNo)\n",
    "\n",
    "t,v = rk4_solve(0,2,1e-2, UpLfQ,F,JNo)\n",
    "t2,v2 = rk4_solve(0,2,1e-2, UpRtQ,F,JNo)\n",
    "t3,v3 = rk4_solve(0,2,1e-2, LwLfQ,F,JNo)\n",
    "t4,v4 = rk4_solve(0,2,1e-2, LwRtQ,F,JNo)\n",
    "\n",
    "#np.shape(v)\n",
    "plt.plot(v[:,0],v[:,1], 'b',v2[:,0], v2[:,1],'r',v3[:,0], v3[:,1],'m',v4[:,0], v4[:,1],'y',\n",
    "         [-.5,.50],[0,0],'k',[0,0],[-.30, .30],'k');\n",
    "plt.xlabel('k',size=15)\n",
    "plt.ylabel('c',size=15);"
   ]
  },
  {
   "cell_type": "markdown",
   "metadata": {},
   "source": [
    "### Full Commitment Case"
   ]
  },
  {
   "cell_type": "code",
   "execution_count": 88,
   "metadata": {},
   "outputs": [
    {
     "name": "stdout",
     "output_type": "stream",
     "text": [
      "The Jacobian Matrix of the Full Committment case:\n",
      "[[ 1.00000000e-02 -1.00000000e+00]\n",
      " [-9.00000000e-04 -1.04083409e-17]]\n",
      " \n",
      "The Eigenvalues and Eigenvectors of the Full Commmittment Case:\n",
      "(array([ 0.03541381, -0.02541381]), array([[ 0.99967723,  0.99937352],\n",
      "       [-0.02540561,  0.03539163]]))\n"
     ]
    }
   ],
   "source": [
    "alpha, delta, xt, n, rho, b, gamma = 0.75, 0.05, 0.02, 0.01, 0.02, 0.5, 0.5\n",
    "r = (alpha, delta, xt, n, rho, 0, gamma)\n",
    "\n",
    "\n",
    "# Equations of k*_inf and c*_inf for Full Commitment\n",
    "kinf = (alpha/(delta + rho + xt))**(1/(1-alpha)) \n",
    "cinf = kinf**alpha - (delta + n + xt)*kinf \n",
    "\n",
    "eq = nullcline_intersection(dFull,r)\n",
    "c = np.linspace(ca-cinf,cb-cinf)\n",
    "k = np.linspace(ka-kinf,kb-kinf)\n",
    "Jinf = jacsysFC(kstar,cstar,r)\n",
    "Jentries = (Jinf[0,0],Jinf[0,1],Jinf[1,0],Jinf[1,1])\n",
    "\n",
    "print(\"The Jacobian Matrix of the Full Committment case:\")\n",
    "print(Jinf)\n",
    "print(\" \")\n",
    "print(\"The Eigenvalues and Eigenvectors of the Full Commmittment Case:\")\n",
    "print(np.linalg.eig(Jinf))\n"
   ]
  },
  {
   "cell_type": "code",
   "execution_count": 66,
   "metadata": {},
   "outputs": [
    {
     "name": "stdout",
     "output_type": "stream",
     "text": [
      "[[ 1.e-02 -1.e+00]\n",
      " [-9.e-04  0.e+00]]\n"
     ]
    },
    {
     "data": {
      "image/png": "[encoded data removed]",
      "text/plain": [
       "<Figure size 432x288 with 1 Axes>"
      ]
     },
     "metadata": {
      "needs_background": "light"
     },
     "output_type": "display_data"
    }
   ],
   "source": [
    "UpLfQ = [-0.005, .005]  # Value in upper left quadrant (Blue)\n",
    "UpRtQ = [0.01, .005]   # Value in upper right quadrant (Red)\n",
    "LwLfQ = [-0.01, -0.005] # Value in lower left quadrantn(Purple)\n",
    "LwRtQ = [0.005, -0.005]  # Value in lower right quadrant (Yellow)\n",
    "\n",
    "\n",
    "JentriesInf = np.array([[Jinf[0,0],Jinf[0,1]],[Jinf[1,0],Jinf[1,1]]])\n",
    "JentriesInf = np.array([[Jinf[0,0],-1],[Jinf[1,0],0]])\n",
    "\n",
    "print(JentriesInf)\n",
    "\n",
    "\n",
    "t,v = rk4_solve(0,4,1e-2, UpLfQ,F,JentriesInf)\n",
    "t2,v2 = rk4_solve(0,2,1e-2, UpRtQ,F,JentriesInf)\n",
    "t3,v3 = rk4_solve(0,2,1e-2, LwLfQ,F,JentriesInf)\n",
    "t4,v4 = rk4_solve(0,2,1e-2, LwRtQ,F,JentriesInf)\n",
    "\n",
    "#np.shape(v)\n",
    "plt.plot(v[:,0],v[:,1], 'b',v2[:,0], v2[:,1],'r',v3[:,0], v3[:,1],'m',v4[:,0], v4[:,1],'y',\n",
    "         [-.009,.009],[0,0],'k',[0,0],[-.009, .009],'k');\n",
    "\n",
    "plt.xlabel('k',size=15)\n",
    "plt.ylabel('c',size=15);"
   ]
  },
  {
   "cell_type": "markdown",
   "metadata": {},
   "source": [
    "###### The paths around the stable point, siplaying the saddle paths for above the stable point."
   ]
  },
  {
   "cell_type": "code",
   "execution_count": 81,
   "metadata": {},
   "outputs": [
    {
     "data": {
      "image/png": "[encoded data removed]",
      "text/plain": [
       "<Figure size 432x288 with 1 Axes>"
      ]
     },
     "metadata": {
      "needs_background": "light"
     },
     "output_type": "display_data"
    }
   ],
   "source": [
    "plt.plot(v[:,0],v[:,1], 'b', v2[:,0],v2[:,1], 'r',\n",
    "         [0,0],[0.00499,.00505], 'black', [-.025, .010], [.00499,.00499], 'black');\n",
    "plt.xlabel('k',size=15)\n",
    "plt.ylabel('c',size=15);"
   ]
  },
  {
   "cell_type": "markdown",
   "metadata": {},
   "source": [
    "###### he paths around the stable point, siplaying the saddle paths for beelow the stable point."
   ]
  },
  {
   "cell_type": "code",
   "execution_count": 86,
   "metadata": {},
   "outputs": [
    {
     "data": {
      "image/png": "[encoded data removed]",
      "text/plain": [
       "<Figure size 432x288 with 1 Axes>"
      ]
     },
     "metadata": {
      "needs_background": "light"
     },
     "output_type": "display_data"
    }
   ],
   "source": [
    "plt.plot(v3[:,0],v3[:,1], 'b', v4[:,0],v4[:,1], 'r',\n",
    "         [0,0],[-0.00499,-0.005015], 'black', [-.010, .015], [-0.00499,-.00499], 'black');\n",
    "plt.xlabel('k',size=15)\n",
    "plt.ylabel('c',size=15);"
   ]
  },
  {
   "cell_type": "code",
   "execution_count": null,
   "metadata": {},
   "outputs": [],
   "source": []
  }
 ],
 "metadata": {
  "kernelspec": {
   "display_name": "Python 3",
   "language": "python",
   "name": "python3"
  },
  "language_info": {
   "codemirror_mode": {
    "name": "ipython",
    "version": 3
   },
   "file_extension": ".py",
   "mimetype": "text/x-python",
   "name": "python",
   "nbconvert_exporter": "python",
   "pygments_lexer": "ipython3",
   "version": "3.7.6"
  }
 },
 "nbformat": 4,
 "nbformat_minor": 2
}
