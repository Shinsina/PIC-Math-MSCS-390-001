{
 "cells": [
  {
   "cell_type": "markdown",
   "metadata": {},
   "source": [
    "# Shooting and Time-Elimination Methods for Solving the Ramsey Model with Full or No Commitment"
   ]
  },
  {
   "cell_type": "markdown",
   "metadata": {},
   "source": [
    "### Load Packages and Define the Initial Value Problem (IVP) Solver"
   ]
  },
  {
   "cell_type": "code",
   "execution_count": 1,
   "metadata": {},
   "outputs": [],
   "source": [
    "import numpy as np\n",
    "import matplotlib.pyplot as plt\n",
    "from scipy.integrate import odeint, ode\n",
    "from scipy.special import roots_laguerre\n",
    "import timeit"
   ]
  },
  {
   "cell_type": "code",
   "execution_count": 2,
   "metadata": {},
   "outputs": [],
   "source": [
    "def ivp_solve(odefunc,y0,t0,tf,dt,r,backwards=False):\n",
    "    tv, sol = [], []\n",
    "\n",
    "    f = ode(odefunc).set_integrator('lsoda',with_jacobian=True)\n",
    "    tic = timeit.default_timer()\n",
    "    sol.append(y0)\n",
    "    if backwards:\n",
    "        f.set_initial_value(y0,tf).set_f_params(r).set_jac_params(r)\n",
    "        tv.append(tf)\n",
    "        dt = -1*dt\n",
    "        while f.successful() and f.t > t0:\n",
    "            f.integrate(f.t+dt)\n",
    "            sol.append(f.y)\n",
    "            tv.append(f.t)\n",
    "        toc = timeit.default_timer()\n",
    "        print('IVP run complete in {:4.2f} seconds.'.format(toc-tic))\n",
    "    else:\n",
    "        f.set_initial_value(y0,t0).set_f_params(r).set_jac_params(r)\n",
    "        tv.append(t0)\n",
    "        while f.successful() and f.t < tf:\n",
    "            f.integrate(f.t+dt)\n",
    "            sol.append(f.y)\n",
    "            tv.append(f.t)\n",
    "        toc = timeit.default_timer()\n",
    "        print('IVP run complete in {:4.2f} seconds.'.format(toc-tic))\n",
    "\n",
    "    return tv, sol"
   ]
  },
  {
   "cell_type": "markdown",
   "metadata": {},
   "source": [
    "### Define the System of Equations and Relevant Parameters"
   ]
  },
  {
   "cell_type": "markdown",
   "metadata": {},
   "source": [
    "###### Solve the nonlinear system of equations\n",
    "\n",
    "Full Commitment:\n",
    "\\begin{align}\n",
    "\\dot{k} &= k^\\alpha - \\left(\\delta + n + x\\right)k - c\\\\\n",
    "\\dot{c} &= c\\left(\\alpha k^{\\alpha - 1} - \\left(\\delta + x\\right) - \\left(\\rho + be^{-\\gamma t}\\right) \\right)\n",
    "\\end{align}\n",
    "\n",
    "No Commitment:\n",
    "\\begin{align}\n",
    "\\dot{k} &= k^\\alpha - \\left(\\delta + n + x\\right)k - c\\\\\n",
    "\\dot{c} &= c\\left(\\alpha k^{\\alpha - 1} - \\left(\\delta + x + \\lambda\\right) \\right)\n",
    "\\end{align}\n",
    "\n",
    "with $k(0) = k_0 = 0.25k^\\ast_0$."
   ]
  },
  {
   "cell_type": "code",
   "execution_count": 3,
   "metadata": {},
   "outputs": [],
   "source": [
    "def Fode(t,y,r):\n",
    "    # System of Equations\n",
    "    # order for r: alpha, delta, xt, n, rho, b, gamma\n",
    "    alpha, delta, xt, n, rho, b, gamma = r[0], r[1], r[2], r[3], r[4], r[5], r[6]\n",
    "    return np.array([y[0]**alpha-(delta+xt+n)*y[0]-y[1],\n",
    "            y[1]*(alpha*y[0]**(alpha-1)-(delta+xt)-(rho+b*np.exp(-gamma*t)))])"
   ]
  },
  {
   "cell_type": "markdown",
   "metadata": {},
   "source": [
    "###### Jacobian of the System\n",
    "$$J(k,c)=\n",
    "\\begin{bmatrix}\n",
    "\\alpha k^{\\alpha-1}-\\left(\\delta+n+x\\right) & -1\\\\\n",
    "\\alpha(\\alpha-1)ck^{\\alpha-2} & \\alpha k^{\\alpha - 1} - \\left(\\delta + x\\right) - \\left(\\rho + be^{-\\gamma t}\\right)\\\\\n",
    "\\end{bmatrix}$$"
   ]
  },
  {
   "cell_type": "code",
   "execution_count": 4,
   "metadata": {},
   "outputs": [],
   "source": [
    "def jac(t,y,r):\n",
    "    # order for r: alpha, delta, xt, n, rho, b, gamma\n",
    "    alpha, delta, xt, n, rho, b, gamma = r[0], r[1], r[2], r[3], r[4], r[5], r[6]\n",
    "    return np.array([[alpha*y[0]**(alpha-1)-(delta+n+xt),-1],\n",
    "            [y[1]*alpha*(alpha-1)*y[0]**(alpha-2),alpha*y[0]**(alpha-1)-(delta+xt)-(rho+b*np.exp(-gamma*t))]])"
   ]
  },
  {
   "cell_type": "markdown",
   "metadata": {},
   "source": [
    "### Compute the Model Parameters"
   ]
  },
  {
   "cell_type": "markdown",
   "metadata": {},
   "source": [
    "###### Integrand for $\\lambda$ as defined in Barro\n",
    "$$\\lambda = \\frac1{\\int_0^\\infty e^{-\\left(\\rho v+\\phi(v)\\right)}\\,dv}$$\n",
    "where $$\\phi(v)=\\frac{b}{\\gamma}\\left(1-e^{-\\gamma v}\\right)$$\n",
    "but since Gauss-Laguerre quadrature is being used, write the integral as\n",
    "$$e^{-\\frac{b}{\\gamma}}\\int_0^\\infty e^{\\frac{b}{\\gamma}e^{-\\gamma v}}\\,e^{-\\rho v}dv$$ and the weigthing becomes $$e^{-x}\\frac{dx}{\\rho}$$ for the quadrature rule."
   ]
  },
  {
   "cell_type": "code",
   "execution_count": 5,
   "metadata": {},
   "outputs": [],
   "source": [
    "def g(x,b,gamma):\n",
    "    return np.exp(-b/gamma)*np.exp((b/gamma)*np.exp(-gamma*x))"
   ]
  },
  {
   "cell_type": "code",
   "execution_count": 6,
   "metadata": {},
   "outputs": [
    {
     "name": "stdout",
     "output_type": "stream",
     "text": [
      "k* no commitment: 2456.8795\n",
      "c* no commitment: 152.4195\n",
      "k(0) = 614.2199\n",
      "k* commitment: 4822.5309\n",
      "c* commitment: 192.9012\n",
      "lambda = 0.0365\n",
      "k relative percentage full to none: 0.9629\n",
      "c relative percentage full to none: 0.2656\n"
     ]
    }
   ],
   "source": [
    "# Set the model parameters\n",
    "alpha, delta, xt, n = 0.75, 0.05, 0.02, 0.01\n",
    "#alpha, delta, xt, n = 0.33, 0.05, 0.02, 0.01\n",
    "rho, b, gamma = 0.02, 0.5, 0.5\n",
    "#rho, b, gamma = 0.02, 0.2, 0.5\n",
    "#rho, b, gamma = 0.02, 0.1, 0.5\n",
    "#----------------------------------------------------------------\n",
    "# Compute the lambda integral using Gauss-Laguerre quadrature\n",
    "#----------------------------------------------------------------\n",
    "N = 100\n",
    "x,w = roots_laguerre(N)\n",
    "x /= (rho-n)\n",
    "w /= (rho-n)\n",
    "Omega = w.dot(g(x,b,gamma))\n",
    "lam = 1/Omega+n\n",
    "#----------------------------------------------------------------\n",
    "# No Commitment\n",
    "#----------------------------------------------------------------\n",
    "kzed = (alpha/(delta + lam + xt))**(1/(1-alpha)) # No commitment\n",
    "czed = kzed**alpha - (delta + n + xt)*kzed # No commitment\n",
    "#----------------------------------------------------------------\n",
    "# Full Commitment\n",
    "#----------------------------------------------------------------\n",
    "kinf = (alpha/(delta + rho + xt))**(1/(1-alpha)) # Commitment\n",
    "cinf = kinf**alpha - (delta + n + xt)*kinf # Commitment\n",
    "#----------------------------------------------------------------\n",
    "# Equilibria under no-commitment\n",
    "#----------------------------------------------------------------\n",
    "eq = np.array([kzed,czed])\n",
    "print('k* no commitment: {:4.4f}'.format(kzed))\n",
    "print('c* no commitment: {:4.4f}'.format(czed))\n",
    "print('k(0) = {:2.4f}'.format(0.25*kzed))\n",
    "print('k* commitment: {:4.4f}'.format(kinf))\n",
    "print('c* commitment: {:4.4f}'.format(cinf))\n",
    "print('lambda = {:4.4f}'.format(lam))\n",
    "#----------------------------------------------------------------\n",
    "print('k relative percentage full to none: {:2.4f}'.format((kinf-kzed)/kzed))\n",
    "print('c relative percentage full to none: {:2.4f}'.format((cinf-czed)/czed))"
   ]
  },
  {
   "cell_type": "markdown",
   "metadata": {},
   "source": [
    "### Solve the Full Commitment Case Using an Infinite Time-horizon Secant Shooting Method"
   ]
  },
  {
   "cell_type": "code",
   "execution_count": 7,
   "metadata": {},
   "outputs": [
    {
     "name": "stdout",
     "output_type": "stream",
     "text": [
      "IVP run complete in 0.89 seconds.\n",
      "Iteration 0\n",
      "IVP run complete in 0.87 seconds.\n",
      "Iteration 1\n",
      "IVP run complete in 0.84 seconds.\n",
      "Iteration 2\n",
      "IVP run complete in 0.85 seconds.\n",
      "Iteration 3\n",
      "IVP run complete in 0.82 seconds.\n",
      "Iteration 4\n",
      "IVP run complete in 0.82 seconds.\n",
      "Iteration 5\n",
      "IVP run complete in 0.89 seconds.\n",
      "Iteration 6\n",
      "IVP run complete in 0.79 seconds.\n",
      "Iteration 7\n",
      "IVP run complete in 0.83 seconds.\n",
      "Iteration 8\n",
      "IVP run complete in 0.83 seconds.\n",
      "Iteration 9\n",
      "IVP run complete in 0.87 seconds.\n",
      "--------------------------------------------------\n",
      "Shooting Algorithm Complete in 10 iterations with error 6.0115e-12\n",
      "k_0 = 614.2198780\n",
      "k(0) ~ 614.2198780\n",
      "c(0) ~ 77.4063660\n"
     ]
    }
   ],
   "source": [
    "# ****************************************************************************************\n",
    "# Full Commitment\n",
    "# ****************************************************************************************\n",
    "# Store the model parameters\n",
    "# order for r: alpha, delta, xt, n, rho, b, gamma\n",
    "r = (alpha, delta, xt, n, rho, b, gamma)\n",
    "# Set the starting conditions\n",
    "k0 = 0.25*kzed\n",
    "kstart = kinf\n",
    "\n",
    "# Set the simulation parameters\n",
    "# Remark: the model variables clearly asymptote by tf = 300 for Barro cases (1) -- (3)\n",
    "# Remark: the model variables clearly asymptote by tf = 70 for Barro cases (4) -- (6)\n",
    "# Remark: tf may need to be reset to a later or earlier time depending on the model parameters\n",
    "t0, tf, dt = 0, 300, 3e-3\n",
    "# Set the perturbation of cinf\n",
    "eps = 5e-9\n",
    "# Set the secant method parameters\n",
    "tol, error, nits, MAXITS = 5e-9, 1, 0, 50\n",
    "\n",
    "# Prime the algorithm with initial guess and one IVP solve\n",
    "cu = cinf+eps\n",
    "cl = cinf-eps\n",
    "y0 = [kstart, cl]\n",
    "tv, p = ivp_solve(Fode,y0,t0,tf,dt,r,backwards=True)\n",
    "kl = p[-1][0]\n",
    "# Start the while loop\n",
    "while error > tol and nits < MAXITS:\n",
    "    print('Iteration {:d}'.format(nits))\n",
    "    # ***************************************************************\n",
    "    # Evalute the function that will be zero at the left boundary\n",
    "    # This block acts as the function for the secant method\n",
    "    # ***************************************************************\n",
    "    zl = kl-k0 # boundary evaluation\n",
    "    y0 = [kstart, cu] # set initial condition\n",
    "    tv, p = ivp_solve(Fode,y0,t0,tf,dt,r,backwards=True) # solve IVP\n",
    "    ku = p[-1][0] # store left boundary value\n",
    "    zu = ku-k0 # boundary evaluation\n",
    "    # ***************************************************************\n",
    "    # Store c_n and k_n to be c_{n-1} and k_{n-1} in the next iteration\n",
    "    # these values get swapped below in **\n",
    "    ctmp, ktmp = cu, ku\n",
    "    # Compute the correction to c_n and use its absolute value as the error\n",
    "    eta = zu*(cu-cl)/(zu-zl)\n",
    "    # Store c_{n+1} using the secant method by overwriting c_n\n",
    "    cu -= eta\n",
    "    # Compute the error using the Cauchy-criterion for convergence\n",
    "    error = np.fabs(eta)\n",
    "    # ** Swap in c_{n-1} and k_{n-1}\n",
    "    cl, kl = ctmp, ktmp\n",
    "    nits += 1\n",
    "\n",
    "print('-'*50)\n",
    "print('Shooting Algorithm Complete in {:d} iterations with error {:2.4e}'.format(nits,error))\n",
    "\n",
    "capl = np.array(p)[:,0]\n",
    "cons = np.array(p)[:,1]\n",
    "kinf0 = capl[-1]\n",
    "cinf0 = cons[-1]\n",
    "print('k_0 = {:2.7f}'.format(k0))\n",
    "print('k(0) ~ {:2.7f}'.format(kinf0))\n",
    "print('c(0) ~ {:2.7f}'.format(cinf0))"
   ]
  },
  {
   "cell_type": "markdown",
   "metadata": {},
   "source": [
    "### Display the Results"
   ]
  },
  {
   "cell_type": "code",
   "execution_count": 8,
   "metadata": {},
   "outputs": [
    {
     "data": {
      "image/png": "[encoded data removed]",
      "text/plain": [
       "<Figure size 432x288 with 1 Axes>"
      ]
     },
     "metadata": {
      "needs_background": "light"
     },
     "output_type": "display_data"
    },
    {
     "data": {
      "image/png": "[encoded data removed]",
      "text/plain": [
       "<Figure size 432x288 with 1 Axes>"
      ]
     },
     "metadata": {
      "needs_background": "light"
     },
     "output_type": "display_data"
    },
    {
     "data": {
      "image/png": "[encoded data removed]",
      "text/plain": [
       "<Figure size 432x288 with 1 Axes>"
      ]
     },
     "metadata": {
      "needs_background": "light"
     },
     "output_type": "display_data"
    }
   ],
   "source": [
    "# Consumption\n",
    "plt.figure()\n",
    "plt.plot(tv,cons,'r',[t0,tf],[cinf,cinf],'k--')\n",
    "plt.xlabel('Years')\n",
    "plt.ylabel('Consumption')\n",
    "plt.grid(b=True)\n",
    "plt.axis([t0,tf,np.min(cons)*0.9,np.max(cons)*1.1])\n",
    "# Capital\n",
    "plt.figure()\n",
    "plt.plot(tv,capl,'r',[t0,tf],[kinf,kinf],'k--')\n",
    "plt.xlabel('Years')\n",
    "plt.ylabel('Capital Stock')\n",
    "plt.grid(b=True)\n",
    "plt.axis([t0,tf,np.min(capl)*0.9,np.max(capl)*1.1])\n",
    "# Policy Curve\n",
    "plt.figure()\n",
    "plt.plot(capl,cons,'r')\n",
    "plt.xlabel('Capital Stock')\n",
    "plt.ylabel('Consumption')\n",
    "plt.grid(b=True)\n",
    "plt.axis([np.min(capl),np.max(capl),np.min(cons)*0.0,np.max(cons)*1.1]);"
   ]
  },
  {
   "cell_type": "markdown",
   "metadata": {},
   "source": [
    "### Solve the No Commitment Case Using the Time-elimination Method"
   ]
  },
  {
   "cell_type": "code",
   "execution_count": 9,
   "metadata": {},
   "outputs": [],
   "source": [
    "def dc(k,c,r):\n",
    "    alpha, delta, xt, n, lam = r[0], r[1], r[2], r[3], r[4]\n",
    "    return c*(alpha*k**(alpha-1)-(delta+xt)-lam)/(k**alpha-(delta+n+xt)*k-c)"
   ]
  },
  {
   "cell_type": "code",
   "execution_count": 10,
   "metadata": {},
   "outputs": [],
   "source": [
    "# ****************************************************************************************\n",
    "# No commitment\n",
    "# ****************************************************************************************\n",
    "# order for r: alpha, delta, xt, n, lam, b, gamma\n",
    "r = (alpha, delta, xt, n, lam, 0, 0)\n",
    "# Set the starting conditions\n",
    "eps = 1e-4\n",
    "k0 = 0.25*kzed\n",
    "kstart, kfinish, cstart = kzed, k0, czed-eps"
   ]
  },
  {
   "cell_type": "code",
   "execution_count": 11,
   "metadata": {},
   "outputs": [
    {
     "name": "stdout",
     "output_type": "stream",
     "text": [
      "k_0 = 614.2198780\n",
      "k(0) ~ 614.2198780\n",
      "c(0) ~ 43.8920491\n"
     ]
    }
   ],
   "source": [
    "dk = -2e-3\n",
    "f = ode(dc).set_integrator('lsoda')\n",
    "f.set_initial_value(cstart,kstart).set_f_params(r)\n",
    "kv, sol = [], []\n",
    "\n",
    "while f.successful() and f.t > k0:\n",
    "    f.integrate(f.t+dk)\n",
    "    sol.append(f.y[0])\n",
    "    kv.append(f.t)\n",
    "c00 = sol[-1]\n",
    "\n",
    "print('k_0 = {:2.7f}'.format(k0))\n",
    "print('k(0) ~ {:2.7f}'.format(k0))\n",
    "print('c(0) ~ {:2.7f}'.format(c00))"
   ]
  },
  {
   "cell_type": "markdown",
   "metadata": {},
   "source": [
    "###### Compute the relative percentage of full-commitment initial consumption to no-commitment initial consumption."
   ]
  },
  {
   "cell_type": "code",
   "execution_count": 12,
   "metadata": {},
   "outputs": [
    {
     "name": "stdout",
     "output_type": "stream",
     "text": [
      "[c(0)_infty-c(0)_0]/c(0)_0 = 0.764\n"
     ]
    }
   ],
   "source": [
    "print('[c(0)_infty-c(0)_0]/c(0)_0 = {:2.3f}'.format((cinf0-c00)/c00))"
   ]
  },
  {
   "cell_type": "markdown",
   "metadata": {},
   "source": [
    "### Linearized System"
   ]
  },
  {
   "cell_type": "markdown",
   "metadata": {},
   "source": [
    "###### Notice that the Jacobian at the steady-state becomes\n",
    "\n",
    "$$J(k,c)=\n",
    "\\begin{bmatrix}\n",
    "\\alpha k^{\\alpha-1}-\\left(\\delta+n+x\\right) & -1\\\\\n",
    "\\alpha(\\alpha-1)ck^{\\alpha-2} & 0\\\\\n",
    "\\end{bmatrix}$$\n",
    "\n",
    "Find the eigenvalues and eigenvectors of this matrix to check the stability of the system centered at the steady-state."
   ]
  },
  {
   "cell_type": "code",
   "execution_count": 13,
   "metadata": {},
   "outputs": [
    {
     "name": "stdout",
     "output_type": "stream",
     "text": [
      "Jacobian Matrix: \n",
      "[[ 0.02652837 -1.        ]\n",
      " [-0.0016522   0.        ]]\n",
      "eigenvalues: [ 0.05602089 -0.02949252]\n",
      "eigenvectors in columns: \n",
      "[[ 5.60208942e-02  3.46944695e-18]\n",
      " [ 3.46944695e-18 -2.94925201e-02]]\n"
     ]
    }
   ],
   "source": [
    "# Use the Jacobian matrix defined above to solve the linearized system about an equilibrium\n",
    "# and perform stability analysis by checking the eigenvalues of the matrix\n",
    "r = (alpha, delta, xt, n, lam, 0, gamma)\n",
    "J = jac(0,[kzed,czed],r)\n",
    "print('Jacobian Matrix: \\n{}'.format(J))\n",
    "ew, ev = np.linalg.eig(J)\n",
    "print('eigenvalues: {}'.format(ew))\n",
    "print('eigenvectors in columns: \\n{}'.format(np.dot(np.linalg.inv(ev),np.dot(J,ev))))"
   ]
  },
  {
   "cell_type": "code",
   "execution_count": 14,
   "metadata": {
    "scrolled": true
   },
   "outputs": [
    {
     "data": {
      "image/png": "[encoded data removed]",
      "text/plain": [
       "<Figure size 432x288 with 1 Axes>"
      ]
     },
     "metadata": {
      "needs_background": "light"
     },
     "output_type": "display_data"
    }
   ],
   "source": [
    "# Set the initial conditions, one in each quadrant\n",
    "eps0 = 1e-12\n",
    "t = np.linspace(0,1)\n",
    "# Use the analytic solution to view the solutions for the various initial conditions\n",
    "for th in np.linspace(np.pi/4,7*np.pi/4,4):\n",
    "    y0 = np.array([eps0*np.cos(th),eps0*np.sin(th)])\n",
    "    C = np.dot(np.linalg.inv(ev),y0)\n",
    "    kbar = C[0]*ev[0,0]*np.exp(ew[0]*t)+C[1]*ev[0,1]*np.exp(ew[1]*t)\n",
    "    cbar = C[0]*ev[1,0]*np.exp(ew[0]*t)+C[1]*ev[1,1]*np.exp(ew[1]*t)\n",
    "    plt.plot(kbar,cbar,'r--',y0[0],y0[1],'mo')\n",
    "# Display the solutions with initial values\n",
    "plt.axis([-eps0*1.1, eps0*1.1, -eps0*1.1, eps0*1.1])\n",
    "plt.xlabel('k',size=15)\n",
    "plt.ylabel('c',size=15);"
   ]
  },
  {
   "cell_type": "code",
   "execution_count": null,
   "metadata": {},
   "outputs": [],
   "source": []
  }
 ],
 "metadata": {
  "kernelspec": {
   "display_name": "Python 3",
   "language": "python",
   "name": "python3"
  },
  "language_info": {
   "codemirror_mode": {
    "name": "ipython",
    "version": 3
   },
   "file_extension": ".py",
   "mimetype": "text/x-python",
   "name": "python",
   "nbconvert_exporter": "python",
   "pygments_lexer": "ipython3",
   "version": "3.7.3"
  }
 },
 "nbformat": 4,
 "nbformat_minor": 2
}
