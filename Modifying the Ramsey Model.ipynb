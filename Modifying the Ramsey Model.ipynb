{
 "cells": [
  {
   "cell_type": "code",
   "execution_count": 1,
   "metadata": {},
   "outputs": [
    {
     "data": {
      "text/plain": [
       "{'divide': 'warn', 'over': 'warn', 'under': 'ignore', 'invalid': 'warn'}"
      ]
     },
     "execution_count": 1,
     "metadata": {},
     "output_type": "execute_result"
    }
   ],
   "source": [
    "from IPython.display import Image\n",
    "from IPython.core.display import HTML\n",
    "import pandas as pd\n",
    "import numpy as np\n",
    "\n",
    "import matplotlib.pyplot as plt\n",
    "import sympy as sp\n",
    "from sympy.plotting import plot\n",
    "import operator\n",
    "from scipy.special import roots_laguerre\n",
    "\n",
    "import timeit\n",
    "\n",
    "np.seterr(all=\"ignore\")"
   ]
  },
  {
   "cell_type": "markdown",
   "metadata": {},
   "source": [
    "# Functions for plotting and solving ODE's"
   ]
  },
  {
   "cell_type": "code",
   "execution_count": 2,
   "metadata": {},
   "outputs": [],
   "source": [
    "# Returns a list of points (2-tuples) for each solution to the system of equations.\n",
    "# If the nullclines are on top of each other, this method may produce unexpected results.\n",
    "def nullcline_intersection(sys, r):\n",
    "    x, y = sp.symbols('x, y')\n",
    "    eq1 = sys(x, y, r)[0]\n",
    "    eq2 = sys(x, y, r)[1]\n",
    "    sols = sp.solve([eq1, eq2], [x, y])\n",
    "    return np.array(sols,dtype=float)\n",
    "\n",
    "def plot_nullclines(sys, linx, liny):\n",
    "    t, x, y = sp.symbols('t, x, y')\n",
    "    eq1 = sys[0](t, x, y)\n",
    "    eq2 = sys[1](t, x, y)\n",
    "    \n",
    "    nullcline_x = sp.solve(eq2,x )[0] #x = f(y)\n",
    "    nullclines = plot(nullcline_x)\n",
    "    \n",
    "    return nullclines\n",
    "    \n",
    "\n",
    "# sys is as above, x_window and y_window are lists/tuples containing the ranges for the window.\n",
    "# ex: plot_flow(sys, [0, 10], [5, 15]) goes from 0 to 10 on the x axis and 5 to 15 on the y axis.\n",
    "def plot_flow(sys, x_window, y_window, num_arrows, t=0):\n",
    "    \n",
    "    linx = np.linspace(x_window[0], x_window[1], num_arrows)\n",
    "    liny = np.linspace(y_window[0], y_window[1], num_arrows)\n",
    "    X, Y = np.meshgrid(linx, liny)\n",
    "    \n",
    "    Xa = sys[0](t, X, Y)\n",
    "    Ya = sys[1](t, X, Y)\n",
    "    \n",
    "    n = np.sqrt(Xa*Xa + Ya*Ya)\n",
    "    plt.title('Slope Field and Nullcline Intersections');\n",
    "    plt.quiver(X, Y, Xa/n, Ya/n, color='g');\n",
    "    \n",
    "    #intersections = nullcline_intersection(sys)\n",
    "    #for pt in intersections:\n",
    "    #    print(f'Intersection at: {pt}')\n",
    "    #    plt.plot([0], pt[1], 'bo');\n",
    "        \n",
    "    \n",
    "    #nullcline_y = sp.solve(Xa,x)[0] #y = f(x)\n",
    "    #print(nullcline_y)       \n",
    "    #p1 = plot_nullclines(sys, linx, liny)\n",
    "    \n",
    "        \n",
    "# Generates the numerical solution to an Initial Value Problem. Returns a tuple of all the times that the system was sampled at\n",
    "# and a list of the corresponding states.\n",
    "# sys    - list of 2 functions to solve\n",
    "# init   - list of initial values for the system\n",
    "# tspan  - list of beginning time and ending time\n",
    "# h      - step size\n",
    "# stopfn - a function that takes two arguments, time and the current state of the system. When the lambda returns a truthy value \n",
    "#          the solver will halt.\n",
    "def solve_IVP(sys, init, tspan, h=None, is_forward=None):\n",
    "    \n",
    "    def compare(a, relate, b):\n",
    "        return relate(a,b)\n",
    "      \n",
    "    # Check for span errors\n",
    "    if tspan[0] == tspan[1]:\n",
    "        print('Please make the timespan a list of two distinct values.')\n",
    "    \n",
    "    def wrap(sys):\n",
    "        def F(t,state):\n",
    "            return np.array([sys[0](t, state[0], state[1]), sys[1](t, state[0], state[1])])\n",
    "        return F\n",
    "    \n",
    "    def rk4(t,y,h,func):\n",
    "        k1 = h*func(t,y)\n",
    "        k2 = h*func(t+0.5*h,y+0.5*k1)\n",
    "        k3 = h*func(t+0.5*h,y+0.5*k2)\n",
    "        k4 = h*func(t+h,y+k3)\n",
    "        return (k1 + 2*k2 + 2*k3 + k4) / 6\n",
    "    \n",
    "    def rk4_solve(t0,tf,h,y0,func,relation):\n",
    "        # print('(t0,tf,h,y0,func,stopfn)')\n",
    "        # print(t0,tf,h,y0,func,stopfn)\n",
    "        tv, yv, = [], [] # Results\n",
    "        t, y = t0, y0 # Current state\n",
    "        \n",
    "        while (compare(t,relation,tf)):\n",
    "            y += rk4(t,y,h,func) \n",
    "            t += h\n",
    "            yv.append(y.copy())\n",
    "            tv.append(t)\n",
    "        return np.array(tv), np.array(yv)\n",
    "    \n",
    "    return rk4_solve(tspan[0], tspan[1], h, init, wrap(sys), is_forward)\n",
    "\n",
    "\n",
    "def plot_IVP(sys, init, tspan, h=None, is_forward=None):\n",
    "    # Choose the missing parameters\n",
    "    forward = tspan[1] > tspan[0]\n",
    "    if is_forward == None:    \n",
    "        is_forward = operator.lt if forward else operator.gt\n",
    "        #print(f'Choosing stopping method {\"forward\" if forward else \"backward\"}.')\n",
    "    if h == None:\n",
    "        h = .01 if forward else -.01\n",
    "        #print(f'Choosing step size {h}.')\n",
    "    t,v = solve_IVP(sys, init, tspan, h, is_forward)\n",
    "    plt.plot(v[:,0],v[:,1],'y--');\n",
    "    #plt.plot(init[0], init[1], 'r.')\n",
    "    return t,v\n",
    "\n",
    "# Taylor approximation at x0 of the function 'function'. The degree of the resulting polynomial is n.\n",
    "def taylor(function,x0,n):\n",
    "    x, y = sp.symbols('x, y')\n",
    "    eq = function(x, y)\n",
    "    \n",
    "    def factorial(n):\n",
    "        return 1 if n <= 0 else n*factorial(n-1)\n",
    "    i = 0\n",
    "    p = 0\n",
    "    while i <= n:\n",
    "        p = p + (eq.diff(x,i).subs(x,x0))/(factorial(i))*(x-x0)**i\n",
    "        i += 1\n",
    "    return sp.simplify(p)"
   ]
  },
  {
   "cell_type": "code",
   "execution_count": 3,
   "metadata": {},
   "outputs": [],
   "source": [
    "def plot_time_series(sys, init, tspan, h=None, is_forward=None):\n",
    "    # Choose the missing parameters\n",
    "    forward = tspan[1] > tspan[0]\n",
    "    if is_forward == None:    \n",
    "        is_forward = operator.lt if forward else operator.gt\n",
    "        #print(f'Choosing stopping method {\"forward\" if forward else \"backward\"}.')\n",
    "    if h == None:\n",
    "        h = .01 if forward else -.01\n",
    "    #print(f'Choosing step size {h}.')\n",
    "    t,v = solve_IVP(sys, init, tspan, h, is_forward)\n",
    "    plt.plot(t,v[:,1],'y--');\n",
    "    plt.plot(t[0], init[1], 'r.')\n",
    "    plt.xlabel('$t$',size=20)\n",
    "    return t,v"
   ]
  },
  {
   "cell_type": "markdown",
   "metadata": {},
   "source": [
    "# Linearizing the System using the Jacobian"
   ]
  },
  {
   "cell_type": "code",
   "execution_count": 4,
   "metadata": {},
   "outputs": [],
   "source": [
    "# Returns a matrix of functions in the first variable of the system and the second variable of the system.\n",
    "def jacobian(sys, t=0):\n",
    "    def to_func(s):\n",
    "        return eval(f'lambda t, x, y : {s.__repr__()}')\n",
    "    x, y = sp.symbols('x, y')\n",
    "    x_eq = sys[0](t, x, y)\n",
    "    y_eq = sys[1](t, x, y)\n",
    "    jac = [ [ sp.Derivative(x_eq, x).doit(), sp.Derivative(x_eq, y).doit() ], [ sp.Derivative(y_eq, x).doit(), sp.Derivative(y_eq, y).doit()] ]\n",
    "    fnr1 = [ to_func(e) for e in jac[0] ]\n",
    "    fnr2 = [ to_func(e) for e in jac[1] ]\n",
    "    return [fnr1, fnr2]\n",
    "\n",
    "# Creates the jacobian for the system and solves it at the point (x, y) at a certain point in time.\n",
    "def jacobian_at_a_point(sys, x, y, t=0):\n",
    "    jac = jacobian(sys, t)\n",
    "    return eval_jacobian(jac, t, x, y)\n",
    "\n",
    "# x - value for first variable\n",
    "# y - value for second variable\n",
    "def eval_jacobian(jac, t, x, y):\n",
    "    return [[float(jac[0][0](t,x,y)),float(jac[0][1](t,x,y))],[float(jac[1][0](t,x,y)),float(jac[1][1](t,x,y))]]\n",
    "\n",
    "def print_jacobian(sys):\n",
    "    t, x, y = sp.symbols('t, x, y')\n",
    "    x_eq = sys[0](t, x, y)\n",
    "    y_eq = sys[1](t, x, y)\n",
    "    jac = [ [ sp.Derivative(x_eq, x).doit(), sp.Derivative(x_eq, y).doit() ], [ sp.Derivative(y_eq, x).doit(), sp.Derivative(y_eq, y).doit()]]\n",
    "    print(jac)\n",
    "    return jac\n",
    "def jacsysFC(k,c,r):\n",
    "    # G1 = dc/dt\n",
    "    # G2 = dk/dt\n",
    "    # J = [dG1/dc, dG1/dk\n",
    "    #      dG2/dc, dG2/dk]\n",
    "    alpha, delta, xt, n, rho, b, gamma = r[0], r[1], r[2], r[3], r[4], r[5], r[6]\n",
    "    J = np.array([[alpha*k**(alpha-1)-(delta+xt+n), -1],\n",
    "    [c*alpha*(alpha-1)*k**(alpha-2), alpha*k**(alpha-1) - (delta+xt) - rho]])\n",
    "    return J\n",
    "\n",
    "# Jacobian of the Full Comittment Case\n",
    "def dFull(k,c,r):\n",
    "    alpha, delta, xt, n, rho, b, gamma = r[0], r[1], r[2], r[3], r[4], r[5], r[6]\n",
    "    G1 = k**alpha - (delta+xt+n)*k - c\n",
    "    G2 = c*(alpha*k**(alpha-1) - (delta+xt) - rho) # b*exp(-gamma*t) -> 0 as t -> infty\n",
    "    # returning the array [dK, dC]\n",
    "    return [G1, G2]\n",
    "\n",
    "# Jacobian of the No Comittment Case\n",
    "def dNo(k,c,r):\n",
    "    alpha, delta, xt, n, rho, b, gamma = r[0], r[1], r[2], r[3], r[4], r[5], r[6]\n",
    "    G1 = k**alpha - (delta+xt+n)*k - c\n",
    "    G2 = c*(alpha*k**(alpha-1) - (delta+xt) - lam)\n",
    "    # returning the array [dK, dC]\n",
    "    return [G1, G2]\n",
    "\n",
    "def dJ(k,c,r):\n",
    "    return [r[0]*k+r[1]*c,r[2]*k+r[3]*c]\n",
    "\n",
    "## using keiths notes on full commitment\n",
    "def rk4(t,y,h,func,J):\n",
    "    k1 = h*func(t,y,J)\n",
    "    k2 = h*func(t+0.5*h,y+0.5*k1,J)\n",
    "    k3 = h*func(t+0.5*h,y+0.5*k2,J)\n",
    "    k4 = h*func(t+h,y+k3,J)\n",
    "    return (k1 + 2*k2 + 2*k3 + k4)/6\n",
    "\n",
    "# Homebrew Solver: Euler's Method\n",
    "def rk4_solve(t0,tf,h,y0,func,J):\n",
    "    tv, yv, = [], []\n",
    "    t, y = t0, y0\n",
    "    while t < tf:\n",
    "        y += rk4(t,y,h,func,J)\n",
    "        t += h\n",
    "        yv.append(y.copy())\n",
    "        tv.append(t)\n",
    "    return np.array(tv), np.array(yv)\n",
    "\n",
    "def F(t,U,J):\n",
    "    # System of Equations\n",
    "    return np.array([ J[0,0]*U[0] + J[0,1]*U[1],\n",
    "                      J[1,0]*U[0] + J[1,1]*U[1]])"
   ]
  },
  {
   "cell_type": "markdown",
   "metadata": {},
   "source": [
    "# Gauss Laguerre Quadrature:\n",
    "\n",
    "$\\int_{0}^{+\\infty} e^{-x} f(x) d x \\approx \\sum_{i=1}^{n} w_{i} f\\left(x_{i}\\right)$"
   ]
  },
  {
   "cell_type": "code",
   "execution_count": 5,
   "metadata": {},
   "outputs": [],
   "source": [
    "def gauss_laguerre_quadrature(f,conversion,N):\n",
    "    \n",
    "    x,w = roots_laguerre(N)\n",
    "    \n",
    "    #need to become e^(-x)\n",
    "    x=x*conversion\n",
    "    w=w*conversion\n",
    "\n",
    "    return sum(f(x)*w)"
   ]
  },
  {
   "cell_type": "markdown",
   "metadata": {},
   "source": [
    "# Ramsey Model - original functions"
   ]
  },
  {
   "cell_type": "markdown",
   "metadata": {},
   "source": [
    "\\begin{array}{l}\n",
    "\\frac{d c}{d t}=0.5 \\mathrm{ck}^{-0.5}-0.1 c \\\\\n",
    "\\frac{d k}{d t}=k^{0.5}-c\n",
    "\\end{array}"
   ]
  },
  {
   "cell_type": "code",
   "execution_count": 7,
   "metadata": {},
   "outputs": [],
   "source": [
    "sys = [lambda t, k,c : k**0.5 - c, lambda t, k,c : 0.5*c*(k)**(-0.5) - 0.1*c]"
   ]
  },
  {
   "cell_type": "markdown",
   "metadata": {},
   "source": [
    "### forward-solve:"
   ]
  },
  {
   "cell_type": "code",
   "execution_count": 8,
   "metadata": {},
   "outputs": [
    {
     "data": {
      "image/png": "[encoded data removed]",
      "text/plain": [
       "<Figure size 432x288 with 1 Axes>"
      ]
     },
     "metadata": {
      "needs_background": "light"
     },
     "output_type": "display_data"
    }
   ],
   "source": [
    "plot_flow(sys, [0, 30], [0, 10], 20)\n",
    "\n",
    "#solving forward:\n",
    "tf = 74\n",
    "\n",
    "plot_IVP(sys, [0.01285009, 0.02446086], [0, tf]);\n",
    "\n",
    "#add isoclines:\n",
    "k = np.linspace(0,30,40)\n",
    "c = np.sqrt(k) # dk = sqrt(k) - c with dk = 0\n",
    "# dc = 0 implies 0.5/sqrt(k) - 0.1 = 0 so k = 25\n",
    "plt.plot(k,c,'b',[25,25],[0,10],'r',25,5,'go');"
   ]
  },
  {
   "cell_type": "markdown",
   "metadata": {},
   "source": [
    "### backward-solve:"
   ]
  },
  {
   "cell_type": "code",
   "execution_count": 9,
   "metadata": {},
   "outputs": [
    {
     "data": {
      "image/png": "[encoded data removed]",
      "text/plain": [
       "<Figure size 432x288 with 1 Axes>"
      ]
     },
     "metadata": {
      "needs_background": "light"
     },
     "output_type": "display_data"
    }
   ],
   "source": [
    "plot_flow(sys, [0, 30], [0, 10], 20)\n",
    "\n",
    "k0 = 25\n",
    "error = 0.01\n",
    "c0 = 5-error\n",
    "tf =300 \n",
    "\n",
    "plot_IVP(sys, [k0, c0], [tf, 0]);\n",
    "\n",
    "#add isoclines:\n",
    "k = np.linspace(0,30,40)\n",
    "c = np.sqrt(k) # dk = sqrt(k) - c with dk = 0\n",
    "# dc = 0 implies 0.5/sqrt(k) - 0.1 = 0 so k = 25\n",
    "plt.plot(k,c,'b',[25,25],[0,10],'r',25,5,'go');"
   ]
  },
  {
   "cell_type": "markdown",
   "metadata": {},
   "source": [
    "# Ramsey Model - Barro adds depreciation and some discounting"
   ]
  },
  {
   "cell_type": "markdown",
   "metadata": {},
   "source": [
    "\\begin{array}{l}\n",
    "\\dot{c}=c\\left(\\alpha k^{\\alpha-1}-\\delta-\\frac{\\rho}{\\beta}\\right) \\\\\n",
    "\\dot{k}=k^{\\alpha}-c-\\delta k\n",
    "\\end{array}"
   ]
  },
  {
   "cell_type": "code",
   "execution_count": 10,
   "metadata": {},
   "outputs": [],
   "source": [
    "#use plot vector field\n",
    "#k is x, c is y\n",
    "#sys = [ lambda t, k, c : k**0.5 - c, lambda t, k, c : 0.5 * c * k**(-0.5) - 0.1*c ]\n",
    "α = .5; δ=.1; ρ=.05; β=.5\n",
    "k_prime = lambda t, k, c : k**(α) - c - δ*k\n",
    "c_prime = lambda t, k, c : c*(α*k**(α-1) - δ - (ρ/β))\n",
    "sys = [k_prime, c_prime]"
   ]
  },
  {
   "cell_type": "code",
   "execution_count": 11,
   "metadata": {},
   "outputs": [
    {
     "data": {
      "image/png": "[encoded data removed]",
      "text/plain": [
       "<Figure size 432x288 with 1 Axes>"
      ]
     },
     "metadata": {
      "needs_background": "light"
     },
     "output_type": "display_data"
    }
   ],
   "source": [
    "plot_flow(sys, [0, 100], [0, 10], 20)\n",
    "\n",
    "#backward solves the system:\n",
    "tf = 200\n",
    "t, v = plot_IVP(sys, [6.25, 1.875-.01], [tf,0]);\n",
    "\n",
    "k = np.linspace(0,100,90)\n",
    "isocline_c = lambda k : k**α - δ*k\n",
    "plt.plot(k,isocline_c(k),'b',[6.25,6.25],[0,10],'r',[100,100],[0,10],'c',100,0,'go',6.25,1.875,'go');\n"
   ]
  },
  {
   "cell_type": "markdown",
   "metadata": {},
   "source": [
    "# Barro's Modification of the Ramsey Function"
   ]
  },
  {
   "cell_type": "markdown",
   "metadata": {},
   "source": [
    "### Barro adds present bias and commitment technologies (sorta) by adding 𝜆, which is solved for here:\n",
    "\n",
    "##### we can approximate Ω which is defined as:\n",
    "\n",
    "$\\Omega=e^{-(b / \\gamma)} \\int_{0}^{\\infty} e^{(b / \\gamma)\\left(e^{-\\gamma v}\\right)} e^{-\\rho v} d v$\n",
    "\n",
    "##### And adding n for the effective workers we get:\n",
    "\n",
    "$\\Omega \\equiv \\int_{0}^{\\infty} e^{-[(\\rho-n) v+\\phi(v)]} d v$\n",
    " \n",
    "##### where 𝜙(𝑣)  is defined as:\n",
    "\n",
    "$\\phi(v)=(b / \\gamma) \\cdot\\left(1-e^{-\\gamma v}\\right)$ \n",
    "\n",
    "which represents present bias.\n",
    "\n",
    "### lambda is then solved for like this:\n",
    "\n",
    "$\\lambda=n+(1 / \\Omega)$\n",
    "\n",
    "more technically, 𝜆 represents the \"effective\" rate of time preference, effective implying we are linearlizing the time preference to find its approximation i.e. how much present bias is effecting our decision. It will be a lot in the short term and less in the long term.\n",
    "\n",
    "and where \n",
    "\n",
    "${ρ ≤ 𝜆 ≤ ρ+𝜙'(0)}$ \n",
    "\n",
    "and $ρ$ would be our general appreciation without present bias\n",
    "\n",
    "𝜆 plays a role in finding the steady state solutions for $\\dot{k}$ and $\\dot{c}$, which are defined as:\n",
    "\n",
    "$ \\begin{array}{l}\n",
    "\\dot{c}=c\\left(\\alpha k^{\\alpha-1}-\\delta-x-\\rho-b e^{-\\gamma(t-\\tau)}\\right) \\\\\n",
    "\\dot{k}=k^{\\alpha}-c-(\\delta+x+n) k\n",
    "\\end{array}$\n",
    "\n",
    "To find the steady state solutions, each equation is set equal to zero, and $\\rho-b e^{-\\gamma(t-\\tau)}$ is replaced with either $\\lambda$ or $\\rho$ within the first equation, $\\dot{c}$, depending on whether we are solving the short-term or long-term steady state solution\n",
    "\n",
    "When solving using $\\lambda$ (for the short-term steady state solution):\n",
    "\n",
    "$\\dot{c}=0=\\alpha k^{\\alpha-1}-\\delta-x-\\lambda$\n",
    "\n",
    "we are also solving for what is known as the no commitment steady state. This is because, in the short term, it is like there is no commitment technologies effecting the present bias, so the present bias $\\lambda$ is very present. This results in the short-term capital steady state,  $k_{0}^{*}$, and the short_term consumption steady state,  $c_{0}^{*}$\n",
    "\n",
    "when solving using $\\rho$ (for the long-term steady state solution):\n",
    "\n",
    "$\\dot{c}=0=\\alpha k^{\\alpha-1}-\\delta-x-\\rho$\n",
    "\n",
    "we are also solving for what is known as the full commitment steady state. This is because, in the long term, present bias is no longer effective and it disapears, becoming the base amount of utility that we can foresee from the capital without present bias affecting our judgement, $\\rho$.\n",
    "\n",
    "This also means that $\\left(k_{\\infty}^{*}-k_{0}^{*}\\right) / k_{0}^{*}$ is the relative measure between our long-term capital and our short-term capital. In other words, this is the difference between our long-term steady state and our short-term steady state of capital. The same applies to the relative measure of consumption,  $\\left(c_{\\infty}^{*}-c_{0}^{*}\\right) / c_{0}^{*}$ .\n"
   ]
  },
  {
   "cell_type": "markdown",
   "metadata": {},
   "source": [
    "##### Barro's Full commitment:\n",
    "\n",
    "$ \\begin{array}{l}\n",
    "\\dot{c}=c\\left(\\alpha k^{\\alpha-1}-\\delta-x-\\rho-b e^{-\\gamma(t-\\tau)}\\right) \\\\\n",
    "\\dot{k}=k^{\\alpha}-c-(\\delta+x+n) k\n",
    "\\end{array}$\n",
    "\n",
    "##### Barro's No commitment:\n",
    "\n",
    "$ \\begin{array}{l}\n",
    "\\dot{c}=c\\left(\\alpha k^{\\alpha-1}-\\delta-x-\\lambda\\right) \\\\\n",
    "\\dot{k}=k^{\\alpha}-c-(\\delta+x+n) k\n",
    "\\end{array}$"
   ]
  },
  {
   "cell_type": "code",
   "execution_count": 12,
   "metadata": {},
   "outputs": [],
   "source": [
    "full_commitment = [lambda t, k,c : k**α-c-(δ+x+n)*k, lambda t, k,c : c*(α*k**(α-1)-δ-x-ρ-b*np.exp(-γ*(t-τ)))]\n",
    "no_commitment = [lambda t, k,c : k**α-c-(δ+x+n)*k, lambda t, k,c : c*(α*k**(α-1)-δ-x-λ)]"
   ]
  },
  {
   "cell_type": "markdown",
   "metadata": {},
   "source": [
    "##### Barro adds present bias and commitment technologies (sorta)"
   ]
  },
  {
   "cell_type": "code",
   "execution_count": 13,
   "metadata": {},
   "outputs": [],
   "source": [
    "#γ, b, ρ, δ, x, α, τ, n, λ = 0.5, 0.5, 0.02, 0.05, 0.01, 0.75, 0.0, 0.01, 0.036528\n",
    "\n",
    "α = 0.75 # modifies the output function, as in how much output we get out given our capital\n",
    "δ = 0.05 # represents the depreciation of capital\n",
    "x = 0.02 # represents the cost of technological upkeep\n",
    "b = 0.5  # b represents the upper bound of present bias\n",
    "ρ = 0.02 # represents the amount of base utility we get without present bias affecting it\n",
    "γ = 0.5  # represents how effective present bias is (in the short-term)\n",
    "τ = 0.0  # represents the current day, where τ=0 means time starts today \n",
    "n = 0.01 # represents the cost of effective worker upkeep\n",
    "λ = 0.036528 # represents present bias"
   ]
  },
  {
   "cell_type": "code",
   "execution_count": 14,
   "metadata": {},
   "outputs": [],
   "source": [
    "# for use of the Gauss-Laguerre Quadrature when solving for lambda:\n",
    "# f(x) = e^(-phi'(v))\n",
    "def f(x):\n",
    "    return np.exp( -((b/γ)*(1-np.exp(-γ*x))))"
   ]
  },
  {
   "cell_type": "code",
   "execution_count": 15,
   "metadata": {},
   "outputs": [
    {
     "name": "stdout",
     "output_type": "stream",
     "text": [
      "152.41947882152192\n",
      "181.79345158857245\n",
      "188.06452700089557\n",
      "1.3127463226618776\n",
      "1.333711947728847\n",
      "1.3374239826229046\n"
     ]
    },
    {
     "data": {
      "text/html": [
       "<table border=\"1\" class=\"dataframe\">\n",
       "  <thead>\n",
       "    <tr style=\"text-align: right;\">\n",
       "      <th></th>\n",
       "      <th>(1)</th>\n",
       "      <th>(2)</th>\n",
       "      <th>(3)</th>\n",
       "      <th>(4)</th>\n",
       "      <th>(5)</th>\n",
       "      <th>(6)</th>\n",
       "    </tr>\n",
       "  </thead>\n",
       "  <tbody>\n",
       "    <tr>\n",
       "      <th>α</th>\n",
       "      <td>0.750000</td>\n",
       "      <td>0.750000</td>\n",
       "      <td>0.750000</td>\n",
       "      <td>0.330000</td>\n",
       "      <td>0.330000</td>\n",
       "      <td>0.330000</td>\n",
       "    </tr>\n",
       "    <tr>\n",
       "      <th>b = φ'(0)</th>\n",
       "      <td>0.500000</td>\n",
       "      <td>0.200000</td>\n",
       "      <td>0.100000</td>\n",
       "      <td>0.500000</td>\n",
       "      <td>0.200000</td>\n",
       "      <td>0.100000</td>\n",
       "    </tr>\n",
       "    <tr>\n",
       "      <th>λ</th>\n",
       "      <td>0.036528</td>\n",
       "      <td>0.024792</td>\n",
       "      <td>0.022164</td>\n",
       "      <td>0.036528</td>\n",
       "      <td>0.024792</td>\n",
       "      <td>0.022164</td>\n",
       "    </tr>\n",
       "    <tr>\n",
       "      <th><img src=\"https://cdn.discordapp.com/attachments/557363729759469578/726067490941304932/unknown.png\" alt=\"img\"></th>\n",
       "      <td>0.962868</td>\n",
       "      <td>0.230583</td>\n",
       "      <td>0.099718</td>\n",
       "      <td>0.286139</td>\n",
       "      <td>0.080497</td>\n",
       "      <td>0.036104</td>\n",
       "    </tr>\n",
       "    <tr>\n",
       "      <th><img src=\"https://cdn.discordapp.com/attachments/557363729759469578/726084138192339024/unknown.png\" alt=\"img\"></th>\n",
       "      <td>0.265594</td>\n",
       "      <td>0.061101</td>\n",
       "      <td>0.025718</td>\n",
       "      <td>0.020842</td>\n",
       "      <td>0.004795</td>\n",
       "      <td>0.002006</td>\n",
       "    </tr>\n",
       "  </tbody>\n",
       "</table>"
      ],
      "text/plain": [
       "<IPython.core.display.HTML object>"
      ]
     },
     "metadata": {},
     "output_type": "display_data"
    }
   ],
   "source": [
    "N=100\n",
    "data = [[0.75,0.75,0.75, 0.33, 0.33, 0.33],\n",
    "        [ 0.5, 0.2, 0.1,  0.5,  0.2,  0.1],\n",
    "        [],\n",
    "        [],\n",
    "        []]\n",
    "\n",
    "λ_data = []\n",
    "b_data = data[1]\n",
    "\n",
    "kinf_steady = []\n",
    "cinf_steady = []\n",
    "k0_steady = []\n",
    "c0_steady = []\n",
    "\n",
    "for b in b_data:\n",
    "    convertWith = 1/(ρ-n)\n",
    "    Ω = gauss_laguerre_quadrature(f,convertWith,N)\n",
    "    λ = n + 1/Ω\n",
    "    λ_data.append(λ)\n",
    "data[2] = λ_data\n",
    "\n",
    "alpha = data[0]\n",
    "k_relative_measure = []\n",
    "c_relative_measure = []\n",
    "\n",
    "for i in range(6):\n",
    "    kinf = ((δ+x+ρ)/alpha[i])**(1/(alpha[i]-1))\n",
    "    cinf = kinf**alpha[i]-(δ+x+n)*kinf\n",
    "    kinf_steady.append(kinf)\n",
    "    cinf_steady.append(cinf)\n",
    "    #print(kinf)\n",
    "    #print(cinf)\n",
    "    \n",
    "    k0=((δ+x+λ_data[i])/alpha[i])**(1/(alpha[i]-1))\n",
    "    c0 = k0**alpha[i]-(δ+x+n)*k0\n",
    "    k0_steady.append(k0)\n",
    "    c0_steady.append(c0)\n",
    "    #print(k0)\n",
    "    print(c0)\n",
    "    \n",
    "    k_rm = (kinf-k0)/k0\n",
    "    c_rm = (cinf-c0)/c0\n",
    "    k_relative_measure.append(k_rm)\n",
    "    c_relative_measure.append(c_rm)\n",
    "        \n",
    "data[3] = k_relative_measure\n",
    "data[4] = c_relative_measure\n",
    "\n",
    "table = pd.DataFrame(data[:5], columns=[\"(1)\",\"(2)\",\"(3)\",\"(4)\",\"(5)\",\"(6)\"], \n",
    "                     index = [\"α\",\"b = φ'(0)\", \"λ\", \n",
    "                              '<img src=\"https://cdn.discordapp.com/attachments/557363729759469578/726067490941304932/unknown.png\" alt=\"img\">', \n",
    "                              '<img src=\"https://cdn.discordapp.com/attachments/557363729759469578/726084138192339024/unknown.png\" alt=\"img\">'])\n",
    "display(HTML(table.to_html(escape=False)))"
   ]
  },
  {
   "cell_type": "code",
   "execution_count": 16,
   "metadata": {},
   "outputs": [],
   "source": [
    "# for use of the Gauss-Laguerre Quadrature when solving for lambda:\n",
    "# f(x) = e^(-phi'(v))\n",
    "def f(x):\n",
    "    return np.exp( -((b/γ)*(1-np.exp(-γ*x))))"
   ]
  },
  {
   "cell_type": "code",
   "execution_count": 17,
   "metadata": {},
   "outputs": [
    {
     "name": "stdout",
     "output_type": "stream",
     "text": [
      "614.219878045033\n"
     ]
    }
   ],
   "source": [
    "table_i=0 #location in the table\n",
    "\n",
    "α=alpha[table_i]\n",
    "λ = λ_data[table_i]\n",
    "b = b_data[table_i]\n",
    "print(.25*k0_steady[table_i])"
   ]
  },
  {
   "cell_type": "markdown",
   "metadata": {},
   "source": [
    "# Forward Solve the system of equations given c0 and k0: "
   ]
  },
  {
   "cell_type": "code",
   "execution_count": 18,
   "metadata": {},
   "outputs": [
    {
     "data": {
      "image/png": "[encoded data removed]",
      "text/plain": [
       "<Figure size 432x288 with 1 Axes>"
      ]
     },
     "metadata": {
      "needs_background": "light"
     },
     "output_type": "display_data"
    }
   ],
   "source": [
    "#k0 = 0.25*k_steady\n",
    "k0 = 614.22\n",
    "tf = 75\n",
    "\n",
    "#full commitment:\n",
    "plt.plot([0,tf], [cinf_steady[table_i], cinf_steady[table_i]], 'r--', label=\"full commitment steady state\")\n",
    "\n",
    "\n",
    "c0 = 77\n",
    "t, v = plot_time_series(full_commitment, [k0,c0],[0,tf]);\n",
    "plt.plot(t,v[:,1], 'r', label=\"full commitment\")\n",
    "\n",
    "#no commitment\n",
    "plt.plot([0,tf], [c0_steady[table_i], c0_steady[table_i]], 'g--', label=\"no commitment steady state\")\n",
    "\n",
    "c0 = 43.8\n",
    "t,v = plot_time_series(no_commitment,[k0,c0],[0,tf]);\n",
    "plt.plot(t,v[:,1], 'g', label=\"no commitment\")\n",
    "\n",
    "# make the graph prettier\n",
    "plt.xlabel('$years$',size=20)\n",
    "plt.ylabel('$consumption$',size=20);\n",
    "plt.legend();\n"
   ]
  },
  {
   "cell_type": "code",
   "execution_count": 19,
   "metadata": {},
   "outputs": [
    {
     "name": "stdout",
     "output_type": "stream",
     "text": [
      "[2412.95716417  128.09610493]\n"
     ]
    },
    {
     "data": {
      "image/png": "[encoded data removed]",
      "text/plain": [
       "<Figure size 432x288 with 1 Axes>"
      ]
     },
     "metadata": {
      "needs_background": "light"
     },
     "output_type": "display_data"
    }
   ],
   "source": [
    "# To plot capital, plot v[:,0] instead of v[:,1]\n",
    "\n",
    "plt.plot(t,v[:,0], 'g', label=\"capital vs time\")\n",
    "plt.legend()\n",
    "plt.xlabel('$years$',size=20)\n",
    "plt.ylabel('$capital$',size=20);\n",
    "print(v[-1])"
   ]
  },
  {
   "cell_type": "markdown",
   "metadata": {},
   "source": [
    "# Backward solve the system of equations:"
   ]
  },
  {
   "cell_type": "code",
   "execution_count": null,
   "metadata": {},
   "outputs": [],
   "source": [
    "# solve for the systems of equations for c0:\n",
    "error = 0.01\n",
    "\n",
    "#full commitment\n",
    "tf= 424.774\n",
    "#tf = 79.5764\n",
    "\n",
    "plt.plot([0,tf], [cinf_steady[table_i], cinf_steady[table_i]], 'r--', label=\"full commitment steady state\")\n",
    "\n",
    "init_pt = [kinf_steady[table_i], cinf_steady[table_i]-error]\n",
    "t, v = plot_time_series(full_commitment, init_pt,[tf,0])\n",
    "plt.plot(t,v[:,1], 'r', label=\"full commitment\")\n",
    "full_commit_c0 = v[-1][1]\n",
    "print(f'[k(0), c(0)] for full commitment is currently {v[-1]}')\n",
    "print()\n",
    "\n",
    "#no commitment\n",
    "plt.plot([0,tf], [c0_steady[table_i], c0_steady[table_i]], 'g--', label=\"no commitment steady state\")\n",
    "tf= 342.489\n",
    "#tf = 79.5764\n",
    "\n",
    "init_pt = [k0_steady[table_i], c0_steady[table_i]-error] #short-term steady state - no commitment\n",
    "\n",
    "t, v = plot_time_series(no_commitment, init_pt, [tf,0])\n",
    "plt.plot(t,v[:,1], 'g', label=\"no commitment\")\n",
    "no_commit_c0 = v[-1][1]\n",
    "print(f'[k(0), c(0)] for no commitment is currently {v[-1]}')\n",
    "\n",
    "# make the graph prettier\n",
    "plt.legend();\n",
    "plt.xlabel('$years$',size=20)\n",
    "plt.ylabel('$consumption$',size=20);\n"
   ]
  },
  {
   "cell_type": "markdown",
   "metadata": {},
   "source": [
    "### Plugging the resulting c0 values into the forward solver (which decides the shape of the graphs) but not the k0 value, which should always be .25 $k^{*}_{0}$:"
   ]
  },
  {
   "cell_type": "markdown",
   "metadata": {},
   "source": [
    "##### we want the curve to follow the steady state and not shoot off into infinity or to zero"
   ]
  },
  {
   "cell_type": "code",
   "execution_count": null,
   "metadata": {},
   "outputs": [],
   "source": [
    "tf= 75\n",
    "init_k0 = .25*k0_steady[0]\n",
    "error = 0.01\n",
    "\n",
    "#full commitment\n",
    "plt.plot([0,tf], [cinf_steady[table_i], cinf_steady[table_i]], 'r--', label=\"full commitment steady state\")\n",
    "\n",
    "t, v = plot_time_series(full_commitment, [init_k0, full_commit_c0], [0,tf])\n",
    "plt.plot(t,v[:,1], 'r', label=\"full commitment\")\n",
    "print(f'[k({tf}), c({tf})] for full commitment is currently {v[-1]}')\n",
    "print()\n",
    "\n",
    "#no commitment\n",
    "plt.plot([0,tf], [c0_steady[table_i], c0_steady[table_i]], 'g--', label=\"no commitment steady state\")\n",
    "\n",
    "t, v = plot_time_series(no_commitment, [init_k0,  no_commit_c0],[0,tf])\n",
    "#t, v = plot_IVP(no_commitment, [init_k0,  no_commit_c0],[0,tf])\n",
    "plt.plot(t,v[:,1], 'g', label=\"no commitment\")\n",
    "print(f'[k({tf}), c({tf})] for no commitment is currently {v[-1]}')\n",
    "\n",
    "# make the graph prettier\n",
    "plt.legend();\n",
    "plt.xlabel('$years$',size=20)\n",
    "plt.ylabel('$consumption$',size=20);\n"
   ]
  },
  {
   "cell_type": "markdown",
   "metadata": {},
   "source": [
    "# Using the Time-elimination method:"
   ]
  },
  {
   "cell_type": "markdown",
   "metadata": {},
   "source": [
    "This is easy for no commitment since no commitment does not contain time in its equations, but this will be tricky for full commitment. The time elimination method can be seen in the code when plot_IVP is used."
   ]
  },
  {
   "cell_type": "code",
   "execution_count": null,
   "metadata": {},
   "outputs": [],
   "source": [
    "#full_commitment = [lambda t, k,c : k**α-c-(δ+x+n)*k, lambda t, k,c : c*(α*k**(α-1)-δ-x-ρ-b*np.exp(-γ*(t-τ)))]\n",
    "full_commitment = [lambda t, k,c : k**α-c-(δ+x+n)*k, lambda t, k,c : c*(α*k**(α-1)-δ-x-ρ)] # when time is small, this doesn't work\n",
    "\n",
    "no_commitment = [lambda t, k,c : k**α-c-(δ+x+n)*k, lambda t, k,c : c*(α*k**(α-1)-δ-x-λ)]"
   ]
  },
  {
   "cell_type": "markdown",
   "metadata": {},
   "source": [
    "### No commitment:"
   ]
  },
  {
   "cell_type": "code",
   "execution_count": null,
   "metadata": {},
   "outputs": [],
   "source": [
    "plot_flow(no_commitment, [0, 3000], [0, 200], 20)\n",
    "\n",
    "plt.plot([0,3000], [c0_steady[table_i], c0_steady[table_i]], 'r--', label=\"k nullcline\")\n",
    "plt.plot([k0_steady[table_i], k0_steady[table_i]],[0,200], 'b--', label=\"c nullcline\")\n",
    "\n",
    "error = 1\n",
    "tf = 500\n",
    "backward_init_pt = [k0_steady[table_i], c0_steady[table_i]-error] #short-term steady state - no commitment\n",
    "plot_IVP(no_commitment, backward_init_pt, [tf, 0]);"
   ]
  },
  {
   "cell_type": "markdown",
   "metadata": {},
   "source": [
    "### full-commitment:"
   ]
  },
  {
   "cell_type": "code",
   "execution_count": null,
   "metadata": {},
   "outputs": [],
   "source": [
    "plot_flow(full_commitment, [0, 5000], [0, 200], 20)\n",
    "\n",
    "plt.plot([0,5000], [cinf_steady[table_i], cinf_steady[table_i]], 'r--', label=\"k nullcline\")\n",
    "plt.plot([kinf_steady[table_i], kinf_steady[table_i]],[0,200], 'b--', label=\"c nullcline\")\n",
    "\n",
    "error = 1\n",
    "tf = 500\n",
    "backward_init_pt = [kinf_steady[table_i]-error, cinf_steady[table_i]-error] #short-term steady state - no commitment\n",
    "plot_IVP(full_commitment, backward_init_pt, [tf, 0]);\n",
    "print(f'[k(0), c(0)] for no commitment is currently {v[-1]}')\n"
   ]
  },
  {
   "cell_type": "markdown",
   "metadata": {},
   "source": [
    "## Using the Jacobian"
   ]
  },
  {
   "cell_type": "markdown",
   "metadata": {},
   "source": [
    "the intuition here, as I understand it, is that zooming into the equilbrium points can help us get a better understanding of the functions. Also, using the Jacobian is the process of normalizing our functions, which should also help us understand our functions better. Viewing the Jacobian flow plot is also like viewing the time-elimination graph zoomed in. For instance, for no commitment, the equation didn't need to be modified, but for full commitment, the equation was modified by getting rid of $be^{-\\gamma(t-\\tau)}$, reducing the equation to $\\dot{c}=c\\left(\\alpha k^{\\alpha-1}-\\delta-x-\\rho\\right)$ Note that this only makes sense when looking at the long-term equilibrium point because $\\lim_{x \\to \\infty} b e^{-\\gamma(t-\\tau)} = 0$"
   ]
  },
  {
   "cell_type": "markdown",
   "metadata": {},
   "source": [
    "##### Full commitment:\n",
    "\n",
    "$ \\begin{array}{l}\n",
    "\\dot{c}=c\\left(\\alpha k^{\\alpha-1}-\\delta-x-\\rho-b e^{-\\gamma(t-\\tau)}\\right)\n",
    "\\mbox{   becomes   } \\dot{c}=c\\left(\\alpha k^{\\alpha-1}-\\delta-x-\\rho\\right)\\\\\n",
    "\\dot{k}=k^{\\alpha}-c-(\\delta+x+n) k\n",
    "\\end{array}$\n",
    "\n",
    "##### No commitment:\n",
    "\n",
    "$ \\begin{array}{l}\n",
    "\\dot{c}=c\\left(\\alpha k^{\\alpha-1}-\\delta-x-\\lambda\\right) \\\\\n",
    "\\dot{k}=k^{\\alpha}-c-(\\delta+x+n) k\n",
    "\\end{array}$"
   ]
  },
  {
   "cell_type": "code",
   "execution_count": null,
   "metadata": {},
   "outputs": [],
   "source": [
    "lam = .03653\n",
    "alpha, delta, xt, n, rho, b, gamma = α, δ, x, n, ρ, b, γ\n",
    "r = (α, δ, x, n, ρ, b, γ)\n",
    "\n",
    "eq = nullcline_intersection(dFull,r)\n",
    "kstar, cstar = eq[0][0], eq[0][1]\n",
    "ca, cb, ka, kb = 1e-6, cstar *1.1, 1e-6, kstar * 1.1"
   ]
  },
  {
   "cell_type": "markdown",
   "metadata": {},
   "source": [
    "##### No Commitment:"
   ]
  },
  {
   "cell_type": "code",
   "execution_count": null,
   "metadata": {},
   "outputs": [],
   "source": [
    "# Equations of k*_0 and c*_0 for No Commitment\n",
    "kzed = (alpha/(delta + lam + xt))**(1/(1-alpha)) \n",
    "czed = kzed**alpha - (delta + n + xt)*kzed \n",
    "\n",
    "eq = nullcline_intersection(dNo,r)\n",
    "c = np.linspace(ca-czed,cb-czed)\n",
    "k = np.linspace(ka-kzed,kb-kzed)\n",
    "JNo = jacsysFC(kstar,cstar,r)\n",
    "JentriesNo = (JNo[0,0],JNo[0,1],JNo[1,0],JNo[1,1])\n",
    "\n",
    "\n",
    "print(\"The Jacobian Matrix of the No Committment case:\")\n",
    "print(JNo)\n",
    "print(\" \")\n",
    "print(\"The Eigenvalues and Eigenvectors of the No Commmittment Case:\")\n",
    "print(np.linalg.eig(JNo))"
   ]
  },
  {
   "cell_type": "code",
   "execution_count": null,
   "metadata": {},
   "outputs": [],
   "source": [
    "UpLfQ = [-0.005, .005]  # Value in upper left quadrant (Blue)\n",
    "UpRtQ = [0.01, .005]   # Value in upper right quadrant (Red)\n",
    "LwLfQ = [-0.01, -0.005] # Value in lower left quadrantn(Purple)\n",
    "LwRtQ = [0.005, -0.005]  # Value in lower right quadrant (Yellow)\n",
    "\n",
    "# Values in the Jacobian of the No Comittment Case\n",
    "JentriesNo = np.array([[JNo[0,0],JNo[0,1]],[JNo[1,0],JNo[1,1]]])\n",
    "print(JentriesNo)\n",
    "\n",
    "tNo,vNo = rk4_solve(0,2,1e-2, UpLfQ,F,JNo)\n",
    "tNo2,vNo2 = rk4_solve(0,2,1e-2, UpRtQ,F,JNo)\n",
    "tNo3,vNo3 = rk4_solve(0,2,1e-2, LwLfQ,F,JNo)\n",
    "tNo4,vNo4 = rk4_solve(0,2,1e-2, LwRtQ,F,JNo)\n",
    "\n",
    "plt.plot(vNo[:,0],vNo[:,1], 'b',vNo2[:,0], vNo2[:,1],'r',vNo3[:,0], vNo3[:,1],'m',vNo4[:,0], vNo4[:,1],'y',\n",
    "         [-.005,.0050],[0,0],'k',[0,0],[-.0050, .0050],'k');\n",
    "plt.xlabel('k',size=15)\n",
    "plt.ylabel('c',size=15);"
   ]
  },
  {
   "cell_type": "markdown",
   "metadata": {},
   "source": [
    "###### The paths around the stable point, displaying the saddle paths for above the stable point.\n",
    "\n",
    "The green circle is the starting point, and the direction the line goes shows the character of how that point reacts around the steady state."
   ]
  },
  {
   "cell_type": "code",
   "execution_count": null,
   "metadata": {},
   "outputs": [],
   "source": [
    "plt.plot(vNo[:,0],vNo[:,1], 'b', vNo2[:,0],vNo2[:,1], 'r',\n",
    "         [0,0],[0.00499,.00505], 'black', [-.014, .010], [.00499,.00499], 'black',UpRtQ[0],UpRtQ[1],'mo',UpLfQ[0],UpLfQ[1],'mo');\n",
    "plt.xlabel('k',size=15)\n",
    "plt.ylabel('c',size=15);"
   ]
  },
  {
   "cell_type": "code",
   "execution_count": null,
   "metadata": {},
   "outputs": [],
   "source": [
    "plt.plot(vNo3[:,0],vNo3[:,1], 'm', vNo4[:,0],vNo4[:,1], 'y',\n",
    "         [0,0],[-0.00499,-0.005015], 'black', [-.010, .015], [-0.00499,-.00499], 'black', LwRtQ[0],LwRtQ[1],'go',LwLfQ[0],LwLfQ[1],'go');\n",
    "plt.xlabel('k',size=15)\n",
    "plt.ylabel('c',size=15);"
   ]
  },
  {
   "cell_type": "markdown",
   "metadata": {},
   "source": [
    "#####  Full Commitment:"
   ]
  },
  {
   "cell_type": "code",
   "execution_count": null,
   "metadata": {},
   "outputs": [],
   "source": [
    "alpha, delta, xt, n, rho, b, gamma = 0.75, 0.05, 0.02, 0.01, 0.02, 0.5, 0.5\n",
    "r = (alpha, delta, xt, n, rho, b, gamma)\n",
    "\n",
    "\n",
    "# Equations of k*_inf and c*_inf for Full Commitment\n",
    "kinf = (alpha/(delta + rho + xt))**(1/(1-alpha)) \n",
    "cinf = kinf**alpha - (delta + n + xt)*kinf \n",
    "\n",
    "eq = nullcline_intersection(dFull,r)\n",
    "c = np.linspace(ca-cinf,cb-cinf)\n",
    "k = np.linspace(ka-kinf,kb-kinf)\n",
    "Jinf = jacsysFC(kstar,cstar,r)\n",
    "Jentries = (Jinf[0,0],Jinf[0,1],Jinf[1,0],Jinf[1,1])\n",
    "\n",
    "print(\"The Jacobian Matrix of the Full Committment case:\")\n",
    "print(Jinf)\n",
    "print(\" \")\n",
    "print(\"The Eigenvalues and Eigenvectors of the Full Commmittment Case:\")\n",
    "print(np.linalg.eig(Jinf))"
   ]
  },
  {
   "cell_type": "code",
   "execution_count": null,
   "metadata": {},
   "outputs": [],
   "source": [
    "UpLfQ = [-0.005, .005]  # Value in upper left quadrant (Blue)\n",
    "UpRtQ = [0.01, .005]   # Value in upper right quadrant (Red)\n",
    "LwLfQ = [-0.01, -0.005] # Value in lower left quadrantn(Purple)\n",
    "LwRtQ = [0.005, -0.005]  # Value in lower right quadrant (Yellow)\n",
    "\n",
    "# Values in the Jacobian of the No Comittment Case\n",
    "JentriesInf = np.array([[Jinf[0,0],Jinf[0,1]],[Jinf[1,0],Jinf[1,1]]])\n",
    "JentriesInf = np.array([[Jinf[0,0],-1],[Jinf[1,0],0]])\n",
    "\n",
    "print(JentriesInf)\n",
    "\n",
    "\n",
    "tinf,vinf = rk4_solve(0,4,1e-2, UpLfQ,F,JentriesInf)\n",
    "tinf2,vinf2 = rk4_solve(0,2,1e-2, UpRtQ,F,JentriesInf)\n",
    "tinf3,vinf3 = rk4_solve(0,2,1e-2, LwLfQ,F,JentriesInf)\n",
    "tinf4,vinf4 = rk4_solve(0,2,1e-2, LwRtQ,F,JentriesInf)\n",
    "\n",
    "#np.shape(v)\n",
    "plt.plot(vinf[:,0],vinf[:,1], 'b',vinf2[:,0], vinf2[:,1],'r',vinf3[:,0], vinf3[:,1],'m',vinf4[:,0], vinf4[:,1],'y',\n",
    "         [-.009,.009],[0,0],'k',[0,0],[-.009, .009],'k');\n",
    "\n",
    "plt.xlabel('k',size=15)\n",
    "plt.ylabel('c',size=15);"
   ]
  },
  {
   "cell_type": "markdown",
   "metadata": {},
   "source": [
    "###### The paths around the stable point, displaying the saddle paths for above the stable point.\n",
    "\n",
    "The green circle is the starting point, and the direction the line goes shows the character of how that point reacts around the steady state."
   ]
  },
  {
   "cell_type": "code",
   "execution_count": null,
   "metadata": {},
   "outputs": [],
   "source": [
    "plt.plot(vinf[:,0],vinf[:,1], 'b', vinf2[:,0],vinf2[:,1], 'r',\n",
    "         [0,0],[0.00499,.00505], 'black', [-.025, .010], [.00499,.00499], 'black',UpRtQ[0],UpRtQ[1],'go',UpLfQ[0],UpLfQ[1],'go');\n",
    "plt.xlabel('k',size=15)\n",
    "plt.ylabel('c',size=15);"
   ]
  },
  {
   "cell_type": "markdown",
   "metadata": {},
   "source": [
    "###### The paths around the stable point, displaying the saddle paths for below the stable point."
   ]
  },
  {
   "cell_type": "code",
   "execution_count": null,
   "metadata": {},
   "outputs": [],
   "source": [
    "plt.plot(vinf3[:,0],vinf3[:,1], 'm', vinf4[:,0],vinf4[:,1], 'y',\n",
    "         [0,0],[-0.00499,-0.005015], 'black', [-.010, .015], [-0.00499,-.00499], 'black', LwRtQ[0],LwRtQ[1],'go',LwLfQ[0],LwLfQ[1],'go');\n",
    "plt.xlabel('k',size=15)\n",
    "plt.ylabel('c',size=15);"
   ]
  },
  {
   "cell_type": "markdown",
   "metadata": {},
   "source": [
    "# Messing with Perturbation for the Backward Solver of Full Commitment:"
   ]
  },
  {
   "cell_type": "markdown",
   "metadata": {},
   "source": [
    "this is to get rid of the reliance on the tf value above, so that we can give it any tf value, and it finds the correct perturbation value so that $k_0 \\approx 614.22$\n",
    "\n",
    "Note that no commitment does not need these considerations because the time-elimination method works (due to it not containing time within its functions for c-dot and k-dot)\n",
    "\n",
    "Due to the nature of full commitment not being solvable by the same means no commitment was (the time elimination method by which the time variable is effectively removed from the equation as it was implicit in nature and can simply be removed by performing those operations), the full commitment case must be solved backwards from the equilibrium values found previously through solving the system of equations, the “solution” that will be found by this solver will come at roughly k(0) which had been calculated to be one quarter (¼) of k(0) (this is the equilibrium solution for the non-commitment case of a given system, ex: $k_0^*=2459.49884228438$ by which k(0) is roughly 614.22 for column 1) By using a “shooting” method alongside a numerical value estimation technique such as the bisection or secant method (by which were chosen due to their non-reliance on taking a derivative as the given equations would not be easy to work with in terms of their derivatives). This means we can therefore “get off” or perturb on both sides of the equilibrium solution (above and below) for c*(inf) (ex: 192.90 for column 1), we can safely narrow down where exactly the initial point must be in order for the given equations to result in that equilibrium solution that was the starting point of the solver. Thus as an example (which may or may not be shown below) for the first column this resulting value is roughly 77.2. The benefit of this implementation in particular is the only variables that are needed to be given to solve for this value are a final time value (ex: 120 for columns 1-3 seemed to be a good fit) and a maximum iteration count by which is essentially just a limit for how many iterations the solver is required/allowed to do before giving up (by which does not seem to be reached unless set fairly/very low\n",
    "\n"
   ]
  },
  {
   "cell_type": "markdown",
   "metadata": {},
   "source": [
    "### The methods we tried for finding the perturbation:"
   ]
  },
  {
   "cell_type": "code",
   "execution_count": null,
   "metadata": {},
   "outputs": [],
   "source": [
    "def LF_secant_method(MAX_IT, tolerance):\n",
    "    \n",
    "    tic = timeit.default_timer()\n",
    "    i=0\n",
    "    error = tolerance+1\n",
    "    eps = 1e-4\n",
    "    \n",
    "    c_upper = cinf_steady[table_i]+eps #the \"plus eps\" is to give something other than the steady state\n",
    "    c_lower = cinf_steady[table_i]-eps\n",
    "    k_init = kinf_steady[table_i]\n",
    "    \n",
    "    #find initial k_upper\n",
    "    init_pt = [k_init, c_upper]\n",
    "    t, v = plot_time_series(full_commitment, init_pt,[tf,0]) #backward solve\n",
    "    k_upper = v[-1][0]\n",
    "        \n",
    "    #find initial k_lower\n",
    "    init_pt = [k_init, c_lower]\n",
    "    t, v = plot_time_series(full_commitment, init_pt,[tf,0]) #backward solve\n",
    "    k_lower = v[-1][0]\n",
    "    \n",
    "    \n",
    "    while (i<MAX_IT and error > tolerance):\n",
    "        \n",
    "        # Evalute the function\n",
    "        fl = k_lower-init_k0\n",
    "        fu = k_upper-init_k0\n",
    "        \n",
    "        #find c_upper and c_lower\n",
    "        tmp = c_upper\n",
    "        c_upper = c_lower - fl*(c_upper-c_lower)/(fu-fl) #need to use the old c_lower\n",
    "        c_lower = tmp\n",
    "        \n",
    "        #find k_upper\n",
    "        init_pt = [k_init, c_upper]\n",
    "        t, v = plot_time_series(full_commitment, init_pt,[tf,0]) #backward solve\n",
    "        k_upper = v[-1][0]\n",
    "\n",
    "        #find k_lower\n",
    "        init_pt = [k_init, c_lower]\n",
    "        t, v = plot_time_series(full_commitment, init_pt,[tf,0]) #backward solve\n",
    "        k_lower = v[-1][0]\n",
    "        \n",
    "        # Compute the error using the Cauchy-criterion for convergence\n",
    "        error = np.fabs(c_lower-c_upper)\n",
    "        i+=1\n",
    "        print(f'iteration {i}')\n",
    "        \n",
    "    toc = timeit.default_timer()\n",
    "    \n",
    "    cstart = (init_k0-k_lower)*(c_upper-c_lower)/(k_upper-k_lower)+c_lower\n",
    "    init_pt = [k_init, cstart]\n",
    "    \n",
    "    print('Run complete in {:4.2f} seconds.'.format(toc-tic))   \n",
    "    return p\n"
   ]
  },
  {
   "cell_type": "code",
   "execution_count": null,
   "metadata": {},
   "outputs": [],
   "source": [
    "def LF_bisection_method(bound, MAX_IT, tolerance):\n",
    "    \n",
    "    tic = timeit.default_timer()\n",
    "    i=0\n",
    "    error = tolerance+1\n",
    "    \n",
    "    while (i<MAX_IT and error > tolerance):\n",
    "        \n",
    "        p = (bound[0]+bound[1])/2\n",
    "        \n",
    "        init_pt = [kinf_steady[table_i], cinf_steady[table_i]-p]\n",
    "        \n",
    "        t, v = plot_time_series(full_commitment, init_pt,[tf,0]) #backward solve\n",
    "        found_k0 = v[-1][0]\n",
    "        \n",
    "        if(found_k0 < init_k0):\n",
    "            bound = [bound[0], p]\n",
    "        \n",
    "        elif(found_k0 > init_k0):\n",
    "            bound = [p, bound[1]]\n",
    "        \n",
    "        else:\n",
    "            break\n",
    "        \n",
    "        error = np.fabs(bound[0]-bound[1])/2\n",
    "        i+=1\n",
    "        print(f'iteration {i}')\n",
    "        \n",
    "        \n",
    "    toc = timeit.default_timer()\n",
    "    \n",
    "    #To-do: add interpolation here for more accuracy\n",
    "    \n",
    "    print('Run complete in {:4.2f} seconds.'.format(toc-tic))   \n",
    "    return p, bound\n",
    "    "
   ]
  },
  {
   "cell_type": "code",
   "execution_count": null,
   "metadata": {},
   "outputs": [],
   "source": [
    "def LF_machine_gun_method(bound, error):\n",
    "    for p in np.arange(bound[0],bound[1],error):\n",
    "\n",
    "        init_pt = [kinf_steady[table_i], cinf_steady[table_i]-p]\n",
    "\n",
    "        t, v = plot_time_series(full_commitment, init_pt,[tf,0])\n",
    "        found_c0 = v[-1][0]\n",
    "        #print(found_c0)\n",
    "        \n",
    "        if(found_c0 < init_k0):\n",
    "            toc = timeit.default_timer()\n",
    "            print('Run complete in {:4.2f} seconds.'.format(toc-tic))\n",
    "            return p\n",
    "        "
   ]
  },
  {
   "cell_type": "markdown",
   "metadata": {},
   "source": [
    "### Backward solving with the Bisection method for finding the perturbation:"
   ]
  },
  {
   "cell_type": "code",
   "execution_count": null,
   "metadata": {},
   "outputs": [],
   "source": [
    "full_commitment = [lambda t, k,c : k**α-c-(δ+x+n)*k, lambda t, k,c : c*(α*k**(α-1)-δ-x-ρ-b*np.exp(-γ*(t-τ)))]\n",
    "\n",
    "# solve the systems of equations for c0:\n",
    "tf = 120\n",
    "\n",
    "#full commitment steady state\n",
    "plt.plot([0,tf], [cinf_steady[table_i], cinf_steady[table_i]], 'b--', label=\"full commitment steady state\")\n",
    "\n",
    "#solve for the perturbation off of the steady state that gives us an adequate c0\n",
    "tolerance = 1e-4\n",
    "MAX_IT=50\n",
    "p, bound_of_p = LF_bisection_method([0,100], MAX_IT, tolerance)\n",
    "\n",
    "#plot with the found perturbation\n",
    "init_pt = [kinf_steady[table_i], cinf_steady[table_i]-p]\n",
    "t, v = plot_time_series(full_commitment, init_pt,[tf,0])\n",
    "plt.plot(t,v[:,1], 'r', label=\"full commitment\")\n",
    "print(f'[k(0), c(0)] for full commitment is currently {v[-1]}')"
   ]
  },
  {
   "cell_type": "markdown",
   "metadata": {},
   "source": [
    "### Backward solving with the Secant method for finding the perturbation:"
   ]
  },
  {
   "cell_type": "code",
   "execution_count": null,
   "metadata": {
    "scrolled": true
   },
   "outputs": [],
   "source": [
    "#full commitment steady state\n",
    "plt.plot([0,tf], [cinf_steady[table_i], cinf_steady[table_i]], 'b--', label=\"full commitment steady state\")\n",
    "\n",
    "#solve for the perturbation off of the steady state that gives us an adequate c0\n",
    "perturbation = LF_secant_method(MAX_IT, tolerance)\n",
    "\n",
    "#plot with the found perturbation:\n",
    "init_pt = [kinf_steady[table_i], cinf_steady[table_i]-perturbation]        \n",
    "t, v = plot_time_series(full_commitment, init_pt,[tf,0])\n",
    "plt.plot(t,v[:,1], 'r', label=\"full commitment\")\n",
    "print(f'[k(0), c(0)] for full commitment is currently {v[-1]}')"
   ]
  },
  {
   "cell_type": "code",
   "execution_count": null,
   "metadata": {},
   "outputs": [],
   "source": []
  }
 ],
 "metadata": {
  "kernelspec": {
   "display_name": "Python 3",
   "language": "python",
   "name": "python3"
  },
  "language_info": {
   "codemirror_mode": {
    "name": "ipython",
    "version": 3
   },
   "file_extension": ".py",
   "mimetype": "text/x-python",
   "name": "python",
   "nbconvert_exporter": "python",
   "pygments_lexer": "ipython3",
   "version": "3.7.6"
  }
 },
 "nbformat": 4,
 "nbformat_minor": 4
}
