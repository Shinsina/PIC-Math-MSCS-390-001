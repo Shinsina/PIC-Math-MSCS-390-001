{
 "cells": [
  {
   "cell_type": "markdown",
   "metadata": {},
   "source": [
    "# Shooting Method for Solving a Boundary Value Problem"
   ]
  },
  {
   "cell_type": "code",
   "execution_count": 1,
   "metadata": {},
   "outputs": [],
   "source": [
    "import numpy as np\n",
    "import matplotlib.pyplot as plt\n",
    "import timeit"
   ]
  },
  {
   "cell_type": "code",
   "execution_count": 2,
   "metadata": {},
   "outputs": [],
   "source": [
    "def rk4(odefunc,y0,t0,tf,dt,r=[],backwards=False):\n",
    "    tv, p = [t0], [np.array(y0,dtype=float)]\n",
    "    y, t = y0, t0\n",
    "    Nt = int(np.fabs(tf-t0)/dt)+1\n",
    "    if backwards:\n",
    "        dt = -1*dt\n",
    "        \n",
    "    tic = timeit.default_timer()\n",
    "\n",
    "    for tstep in range(Nt):\n",
    "        k1 = dt*odefunc(t, y, r)\n",
    "        k2 = dt*odefunc(t+dt/2, y+k1/2, r)\n",
    "        k3 = dt*odefunc(t+dt/2, y+k2/2, r)\n",
    "        k4 = dt*odefunc(t+dt, y+k3, r)\n",
    "        y += (k1 + 2*k2 + 2*k3 + k4)/6\n",
    "                \n",
    "        t += dt\n",
    "        p.append(np.array(y,dtype=float)) # speed & storage test\n",
    "        tv.append(t)\n",
    "\n",
    "    toc = timeit.default_timer()\n",
    "    #print('Run complete in {:4.2f} seconds.'.format(toc-tic))\n",
    "    return tv, p"
   ]
  },
  {
   "cell_type": "markdown",
   "metadata": {},
   "source": [
    "###### In this example we use the secant method to solve the BVP since Newton's method requires the derivative of the function. The shooting method can be implemented with Newton's method but the secant method is easier at the cost of a few iterations.\n",
    "\n",
    "Suppose the BVP is\n",
    "\\begin{align}\n",
    "y'' &= f(x,y,y')\\\\\n",
    "y(a) &= A\\\\\n",
    "y(b) &= B\n",
    "\\end{align}\n",
    "\n",
    "* Set $g(c) = y(b;c)-B$ where $y$ is the (approximated) solution to the ODE\n",
    "* The notation $y(b;c)$ means $y$ has $x=b$ as its final input but is parametrized by $c$, for example, $y(x;m) = m(x-x_0)+y_0$ has $x$ as an input variable but can be parametrized by the slope $m$ if we were considering different lines that pass through $(x_0,y_0)$\n",
    "* We do not know $y(b;c)$, it is an array of values so we will use the final value of the array as the approximation of the solution\n",
    "* We want to drive $g(c)$ towards 0 but we do not know the value of $c$ that yields this result\n",
    "* We know the value of $b$ but the algorithm does not, we want the algorithm to start at the initial values, $y(a) = A$ and $y'(a) = c$, and \"shoot\" for the value $y(b)=B$\n",
    "* The secant method is $$c_{n+1} = c_n - \\frac{g(c_n)}{\\frac{g(c_n)-g(c_{n-1})}{c_n-c_{n-1}}}$$ which can be re-written as $$c_{n+1} = c_n - g(c_n)\\frac{c_n-c_{n-1}}{g(c_n)-g(c_{n-1})}$$\n",
    "\n",
    "Rewrite the BVP as an IVP\n",
    "\\begin{align}\n",
    "u' &= v\\\\\n",
    "v' &= f(x,u,v)\n",
    "\\end{align}\n",
    "with initial conditions\n",
    "\\begin{align}\n",
    "u(a) &= A\\\\\n",
    "v(a) &= u'(a) = c\n",
    "\\end{align}"
   ]
  },
  {
   "cell_type": "markdown",
   "metadata": {},
   "source": [
    "###### Solve the nonlinear Boundary Value Problem (BVP)\n",
    "\\begin{align}\n",
    "y'' &= -\\frac{(y')^2}{y}\\\\\n",
    "y(0) &= 1\\\\\n",
    "y(1) &= 2\n",
    "\\end{align}"
   ]
  },
  {
   "cell_type": "markdown",
   "metadata": {},
   "source": [
    "###### Transform the BVP into a first-order system IVP:\n",
    "\n",
    "Let $v = y'$ and $u=y$ so $v' = y''$ and $u'=y'=v$, so we obtain the following system:\n",
    "\\begin{align}\n",
    "u' &= v\\\\\n",
    "v' &= -\\frac{v^2}{u}\n",
    "\\end{align}\n",
    "with initial conditions\n",
    "\\begin{align}\n",
    "u(0) &= 1\\\\\n",
    "v(0) &= u'(0) = v_0\n",
    "\\end{align}\n",
    "\n",
    "Again, notice that the BVP was swapped for an IVP."
   ]
  },
  {
   "cell_type": "code",
   "execution_count": 3,
   "metadata": {},
   "outputs": [],
   "source": [
    "def Fode(x,y,r):\n",
    "    # System of Equations\n",
    "    u, v = y[0], y[1]\n",
    "    return np.array([v,-v**2/u])"
   ]
  },
  {
   "cell_type": "code",
   "execution_count": 4,
   "metadata": {},
   "outputs": [
    {
     "name": "stdout",
     "output_type": "stream",
     "text": [
      "BC is 2.0000 in 7 iterations.\n"
     ]
    },
    {
     "data": {
      "image/png": "[encoded data removed]",
      "text/plain": [
       "<Figure size 432x288 with 1 Axes>"
      ]
     },
     "metadata": {
      "needs_background": "light"
     },
     "output_type": "display_data"
    }
   ],
   "source": [
    "# Initial guesses for the derivative condition of the IVP\n",
    "c1, c2 = 0.1, 3\n",
    "# The BCs for the problem are\n",
    "lbc, rbc = 1, 2\n",
    "# Independent variable interval\n",
    "x0, xf, dx = 0, 1, 1e-2\n",
    "# Algorithm parameters: iteration counter, max iterations, initial error, tolerance\n",
    "its, MAXITS, err, tol = 1, 10, 1, 1e-6\n",
    "# Initial condition array\n",
    "y10 = [lbc,c1]\n",
    "y20 = [lbc,c2]\n",
    "# Prime the secant method\n",
    "t1,y1 = rk4(Fode,y10,x0,xf,dx)\n",
    "t2,y2 = rk4(Fode,y20,x0,xf,dx)\n",
    "# Evalute the function\n",
    "g1 = np.array(y1)[-1,0]-rbc\n",
    "g2 = np.array(y2)[-1,0]-rbc\n",
    "# Run the secant method\n",
    "while err > tol and its <= MAXITS:\n",
    "    # Store c_n to be c_{n-1} in the next iteration\n",
    "    tmp = c2\n",
    "    # Store c_{n+1} using the secant method by overwriting c_n\n",
    "    c2 = c1 - g1*(c2-c1)/(g2-g1)\n",
    "    # Swap in c_{n-1}\n",
    "    c1 = tmp\n",
    "    # Set new initial conditions\n",
    "    y10 = [1,c1]\n",
    "    y20 = [1,c2]\n",
    "    # Solve the IVP\n",
    "    t1,y1 = rk4(Fode,y10,x0,xf,dx)\n",
    "    t2,y2 = rk4(Fode,y20,x0,xf,dx)\n",
    "    # Compute the error using the Cauchy-criterion for convergence\n",
    "    err = np.fabs(c1-c2)\n",
    "    # Evalute the function\n",
    "    g1 = np.array(y1)[-1,0]-rbc\n",
    "    g2 = np.array(y2)[-1,0]-rbc\n",
    "    its += 1\n",
    "# Display the results    \n",
    "print('BC is {:2.4f} in {:d} iterations.'.format(np.array(y2)[-1,0],its))\n",
    "plt.plot(t2,np.array(y2)[:,0],'r');"
   ]
  },
  {
   "cell_type": "code",
   "execution_count": null,
   "metadata": {},
   "outputs": [],
   "source": []
  }
 ],
 "metadata": {
  "kernelspec": {
   "display_name": "Python 3",
   "language": "python",
   "name": "python3"
  },
  "language_info": {
   "codemirror_mode": {
    "name": "ipython",
    "version": 3
   },
   "file_extension": ".py",
   "mimetype": "text/x-python",
   "name": "python",
   "nbconvert_exporter": "python",
   "pygments_lexer": "ipython3",
   "version": "3.7.3"
  }
 },
 "nbformat": 4,
 "nbformat_minor": 2
}
